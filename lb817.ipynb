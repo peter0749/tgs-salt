{
 "cells": [
  {
   "cell_type": "code",
   "execution_count": 1,
   "metadata": {
    "_cell_guid": "b1076dfc-b9ad-4769-8c92-a6c4dae69d19",
    "_uuid": "8f2839f25d086af736a60e9eeb907d3b93b6e0e5"
   },
   "outputs": [
    {
     "name": "stderr",
     "output_type": "stream",
     "text": [
      "Using TensorFlow backend.\n"
     ]
    }
   ],
   "source": [
    "import os\n",
    "import sys\n",
    "import random\n",
    "\n",
    "import pandas as pd\n",
    "import numpy as np\n",
    "import matplotlib.pyplot as plt\n",
    "plt.style.use('seaborn-white')\n",
    "import seaborn as sns\n",
    "sns.set_style(\"white\")\n",
    "\n",
    "%matplotlib inline\n",
    "\n",
    "# import cv2\n",
    "from sklearn.model_selection import train_test_split\n",
    "\n",
    "from tqdm import tqdm_notebook #, tnrange\n",
    "#from itertools import chain\n",
    "from skimage.io import imread, imshow #, concatenate_images\n",
    "from skimage.transform import resize\n",
    "from skimage.morphology import label\n",
    "\n",
    "from keras.models import Model, load_model, save_model\n",
    "from keras.layers import Input,BatchNormalization,Activation,Add,Dropout\n",
    "from keras.layers.core import Lambda, RepeatVector, Reshape\n",
    "from keras.layers.convolutional import Conv2D, Conv2DTranspose\n",
    "from keras.layers.pooling import MaxPooling2D\n",
    "from keras.layers.merge import concatenate\n",
    "from keras.callbacks import EarlyStopping, ModelCheckpoint, ReduceLROnPlateau\n",
    "from keras import backend as K\n",
    "from keras import optimizers\n",
    "\n",
    "import tensorflow as tf\n",
    "\n",
    "from keras.preprocessing.image import array_to_img, img_to_array, load_img#,save_img\n",
    "\n",
    "import time\n",
    "t_start = time.time()"
   ]
  },
  {
   "cell_type": "code",
   "execution_count": 2,
   "metadata": {
    "_uuid": "2c36d16775556c3e358edefab5710dc1541ccfc4"
   },
   "outputs": [
    {
     "name": "stdout",
     "output_type": "stream",
     "text": [
      "Unet_resnet_v5.model\n",
      "Unet_resnet_v5.csv\n"
     ]
    }
   ],
   "source": [
    "version = 5\n",
    "basic_name = f'Unet_resnet_v{version}'\n",
    "save_model_name = basic_name + '.model'\n",
    "submission_file = basic_name + '.csv'\n",
    "\n",
    "print(save_model_name)\n",
    "print(submission_file)"
   ]
  },
  {
   "cell_type": "code",
   "execution_count": 3,
   "metadata": {
    "_uuid": "63c469280793719bf311d51e6ba2cdaea157d175"
   },
   "outputs": [],
   "source": [
    "img_size_ori = 101\n",
    "img_size_target = 101\n"
   ]
  },
  {
   "cell_type": "code",
   "execution_count": 4,
   "metadata": {
    "_uuid": "1a64babef03b9a0dbc94387a1dad54971c3e028d"
   },
   "outputs": [
    {
     "data": {
      "text/plain": [
       "4000"
      ]
     },
     "execution_count": 4,
     "metadata": {},
     "output_type": "execute_result"
    }
   ],
   "source": [
    "# Loading of training/testing ids and depths\n",
    "train_df = pd.read_csv(\"../input/train.csv\", index_col=\"id\", usecols=[0])\n",
    "depths_df = pd.read_csv(\"../input/depths.csv\", index_col=\"id\")\n",
    "train_df = train_df.join(depths_df)\n",
    "test_df = depths_df[~depths_df.index.isin(train_df.index)]\n",
    "\n",
    "len(train_df)"
   ]
  },
  {
   "cell_type": "code",
   "execution_count": 5,
   "metadata": {
    "_uuid": "80c3768717007fb5f087d3e01619f1a9f9a3beac"
   },
   "outputs": [
    {
     "data": {
      "application/vnd.jupyter.widget-view+json": {
       "model_id": "5d80979c5792460eb8944f76d17b8997",
       "version_major": 2,
       "version_minor": 0
      },
      "text/html": [
       "<p>Failed to display Jupyter Widget of type <code>HBox</code>.</p>\n",
       "<p>\n",
       "  If you're reading this message in the Jupyter Notebook or JupyterLab Notebook, it may mean\n",
       "  that the widgets JavaScript is still loading. If this message persists, it\n",
       "  likely means that the widgets JavaScript library is either not installed or\n",
       "  not enabled. See the <a href=\"https://ipywidgets.readthedocs.io/en/stable/user_install.html\">Jupyter\n",
       "  Widgets Documentation</a> for setup instructions.\n",
       "</p>\n",
       "<p>\n",
       "  If you're reading this message in another frontend (for example, a static\n",
       "  rendering on GitHub or <a href=\"https://nbviewer.jupyter.org/\">NBViewer</a>),\n",
       "  it may mean that your frontend doesn't currently support widgets.\n",
       "</p>\n"
      ],
      "text/plain": [
       "HBox(children=(IntProgress(value=0, max=4000), HTML(value='')))"
      ]
     },
     "metadata": {},
     "output_type": "display_data"
    },
    {
     "name": "stdout",
     "output_type": "stream",
     "text": [
      "\n"
     ]
    }
   ],
   "source": [
    "train_df[\"images\"] = [np.array(load_img(\"../input/train/images/{}.png\".format(idx), color_mode = 'grayscale')) for idx in tqdm_notebook(train_df.index)]"
   ]
  },
  {
   "cell_type": "code",
   "execution_count": 6,
   "metadata": {
    "_uuid": "9f55103f7daad6f03ec874c643077fe686c31bee"
   },
   "outputs": [
    {
     "data": {
      "application/vnd.jupyter.widget-view+json": {
       "model_id": "c5d9e2f1a07247a7a5e9a6fff131a23b",
       "version_major": 2,
       "version_minor": 0
      },
      "text/html": [
       "<p>Failed to display Jupyter Widget of type <code>HBox</code>.</p>\n",
       "<p>\n",
       "  If you're reading this message in the Jupyter Notebook or JupyterLab Notebook, it may mean\n",
       "  that the widgets JavaScript is still loading. If this message persists, it\n",
       "  likely means that the widgets JavaScript library is either not installed or\n",
       "  not enabled. See the <a href=\"https://ipywidgets.readthedocs.io/en/stable/user_install.html\">Jupyter\n",
       "  Widgets Documentation</a> for setup instructions.\n",
       "</p>\n",
       "<p>\n",
       "  If you're reading this message in another frontend (for example, a static\n",
       "  rendering on GitHub or <a href=\"https://nbviewer.jupyter.org/\">NBViewer</a>),\n",
       "  it may mean that your frontend doesn't currently support widgets.\n",
       "</p>\n"
      ],
      "text/plain": [
       "HBox(children=(IntProgress(value=0, max=4000), HTML(value='')))"
      ]
     },
     "metadata": {},
     "output_type": "display_data"
    },
    {
     "name": "stdout",
     "output_type": "stream",
     "text": [
      "\n"
     ]
    }
   ],
   "source": [
    "train_df[\"masks\"] = [np.array(load_img(\"../input/train/masks/{}.png\".format(idx), color_mode = 'grayscale')) / 255 for idx in tqdm_notebook(train_df.index)]"
   ]
  },
  {
   "cell_type": "code",
   "execution_count": 7,
   "metadata": {
    "_uuid": "010066dd50ef4fdfa7dabe2c946fd7491f9556fd"
   },
   "outputs": [],
   "source": [
    "train_df[\"coverage\"] = train_df.masks.map(np.sum) / pow(img_size_ori, 2)\n",
    "\n",
    "def cov_to_class(val):    \n",
    "    for i in range(0, 11):\n",
    "        if val * 10 <= i :\n",
    "            return i\n",
    "        \n",
    "train_df[\"coverage_class\"] = train_df.coverage.map(cov_to_class)\n"
   ]
  },
  {
   "cell_type": "code",
   "execution_count": 8,
   "metadata": {
    "_uuid": "2ad5ac1576277fc54d768933c36efd1f9ff01acd"
   },
   "outputs": [
    {
     "name": "stderr",
     "output_type": "stream",
     "text": [
      "/hdd/home/peter0749/virtualenv/tf_keras/lib/python3.6/site-packages/scipy/stats/stats.py:1713: FutureWarning: Using a non-tuple sequence for multidimensional indexing is deprecated; use `arr[tuple(seq)]` instead of `arr[seq]`. In the future this will be interpreted as an array index, `arr[np.array(seq)]`, which will result either in an error or a different result.\n",
      "  return np.add.reduce(sorted[indexer] * weights, axis=axis) / sumval\n"
     ]
    },
    {
     "data": {
      "text/plain": [
       "Text(0.5,0,'Coverage class')"
      ]
     },
     "execution_count": 8,
     "metadata": {},
     "output_type": "execute_result"
    },
    {
     "data": {
      "image/png": "[encoded data removed]",
      "text/plain": [
       "<matplotlib.figure.Figure at 0x7f69139d8f60>"
      ]
     },
     "metadata": {},
     "output_type": "display_data"
    }
   ],
   "source": [
    "fig, axs = plt.subplots(1, 2, figsize=(15,5))\n",
    "sns.distplot(train_df.coverage, kde=False, ax=axs[0])\n",
    "sns.distplot(train_df.coverage_class, bins=10, kde=False, ax=axs[1])\n",
    "plt.suptitle(\"Salt coverage\")\n",
    "axs[0].set_xlabel(\"Coverage\")\n",
    "axs[1].set_xlabel(\"Coverage class\")"
   ]
  },
  {
   "cell_type": "code",
   "execution_count": 9,
   "metadata": {
    "_uuid": "9f34c4263989a3d95af1e5922c1b7d2126655610"
   },
   "outputs": [
    {
     "name": "stderr",
     "output_type": "stream",
     "text": [
      "/hdd/home/peter0749/virtualenv/tf_keras/lib/python3.6/site-packages/scipy/stats/stats.py:1713: FutureWarning: Using a non-tuple sequence for multidimensional indexing is deprecated; use `arr[tuple(seq)]` instead of `arr[seq]`. In the future this will be interpreted as an array index, `arr[np.array(seq)]`, which will result either in an error or a different result.\n",
      "  return np.add.reduce(sorted[indexer] * weights, axis=axis) / sumval\n"
     ]
    },
    {
     "data": {
      "text/plain": [
       "Text(0.5,1,'Depth distribution')"
      ]
     },
     "execution_count": 9,
     "metadata": {},
     "output_type": "execute_result"
    },
    {
     "data": {
      "image/png": "[encoded data removed]",
      "text/plain": [
       "<matplotlib.figure.Figure at 0x7f69139d82e8>"
      ]
     },
     "metadata": {},
     "output_type": "display_data"
    }
   ],
   "source": [
    "#Plotting the depth distributions¶\n",
    "\n",
    "sns.distplot(train_df.z, label=\"Train\")\n",
    "sns.distplot(test_df.z, label=\"Test\")\n",
    "plt.legend()\n",
    "plt.title(\"Depth distribution\")"
   ]
  },
  {
   "cell_type": "code",
   "execution_count": 10,
   "metadata": {
    "_uuid": "51981795f0dd6b8ca7abe4db367f48313b63811e"
   },
   "outputs": [],
   "source": [
    "# Create train/validation split stratified by salt coverage\n",
    "\n",
    "ids_train, ids_valid, x_train, x_valid, y_train, y_valid, cov_train, cov_test, depth_train, depth_test = train_test_split(\n",
    "    train_df.index.values,\n",
    "    np.array(train_df.images.tolist()).reshape(-1, img_size_target, img_size_target, 1), \n",
    "    np.array(train_df.masks.tolist()).reshape(-1, img_size_target, img_size_target, 1), \n",
    "    train_df.coverage.values,\n",
    "    train_df.z.values,\n",
    "    test_size=0.2, stratify=train_df.coverage_class, random_state= 1618)"
   ]
  },
  {
   "cell_type": "code",
   "execution_count": 11,
   "metadata": {
    "_uuid": "02967d71ee7f936254ab54acf2aa7c2e038a2b21"
   },
   "outputs": [],
   "source": [
    "def build_model():\n",
    "    def conv(f, k=3, act='relu'):\n",
    "        return Conv2D(f, (k, k), activation=act, kernel_initializer='he_normal', padding='same')\n",
    "    def _res_conv(inputs, f, k=3): # very simple residual module\n",
    "        channels = int(inputs.shape[-1])\n",
    "        \n",
    "        cs = inputs\n",
    "        \n",
    "        cs = BatchNormalization() (cs)\n",
    "        cs = Activation('relu') (cs)\n",
    "        cs = conv(f, 3, act=None) (cs)\n",
    "        \n",
    "        cs = BatchNormalization() (cs)\n",
    "        cs = Activation('relu') (cs)\n",
    "        cs = conv(f, 3, act=None) (cs)\n",
    "        \n",
    "        if f!=channels:\n",
    "            t1 = conv(f, 1, None) (inputs) # identity mapping\n",
    "        else:\n",
    "            t1 = inputs\n",
    "        \n",
    "        out = Add()([t1, cs]) # t1 + c2\n",
    "        return out\n",
    "    def pool():\n",
    "        return MaxPooling2D((2, 2))\n",
    "    def up(x, shape):\n",
    "        x = Lambda(lambda x: tf.image.resize_bilinear(x, shape, align_corners=True)) (x)\n",
    "        x = Conv2D(K.int_shape(x)[-1]//2, (2, 2), activation=None, kernel_initializer='he_normal', padding='same') (x)\n",
    "        return x\n",
    "    \n",
    "    inputs = Input(shape=(img_size_ori, img_size_ori, 1))\n",
    "    depths = Input(shape=(1,))\n",
    "    preprocess1 = Lambda(lambda x: x/255.0) (inputs)\n",
    "    \n",
    "    r = 16\n",
    "    rep = 4\n",
    "    mid_rep = 3\n",
    "    x = preprocess1\n",
    "    \n",
    "    skip_connections = []\n",
    "    shapes = []\n",
    "    pad_mode = ['same', 'valid', 'same', 'valid']\n",
    "    \n",
    "    for t in range(rep):\n",
    "        x = conv(r*int(2**t), 3, None) (x)\n",
    "        x = _res_conv(x, r*int(2**t), 3)\n",
    "        x = _res_conv(x, r*int(2**t), 3)\n",
    "        x = BatchNormalization() (x)\n",
    "        x = Activation('relu') (x)\n",
    "        skip_connections.append(x)\n",
    "        shapes.append(K.int_shape(x)[1:3])\n",
    "        x = pool() (x)\n",
    "        x = Dropout(0.1) (x)\n",
    "    \n",
    "    shape = K.int_shape(x)[1:3]\n",
    "    aux = Lambda(lambda x: x/1000.0) (depths)\n",
    "    aux = RepeatVector(np.prod(np.asarray(shape))) (aux)\n",
    "    aux = Reshape((*shape,1)) (aux)\n",
    "    x = concatenate([x, aux])\n",
    "    \n",
    "    x = conv(r*int(2**rep), 3, None) (x)\n",
    "    for t in range(mid_rep):\n",
    "        x = _res_conv(x, r*int(2**rep))\n",
    "    \n",
    "    for t, s, p in zip(reversed(range(rep)), reversed(skip_connections), reversed(shapes)):\n",
    "        x = BatchNormalization() (x)\n",
    "        x = Activation('relu') (x)\n",
    "        x = up(x, p)\n",
    "        x = concatenate([s, x])\n",
    "        x = Dropout(0.1) (x)\n",
    "        x = conv(r*int(2**t), 3, None) (x)\n",
    "        x = _res_conv(x, r*int(2**t), 3)\n",
    "        x = _res_conv(x, r*int(2**t), 3)\n",
    "    x = BatchNormalization() (x)\n",
    "    x = Activation('relu') (x)\n",
    "    outputs = Conv2D(1, (1, 1), activation=None, kernel_initializer='he_normal', padding='valid') (x)\n",
    "    return Model([inputs, depths], [outputs])"
   ]
  },
  {
   "cell_type": "code",
   "execution_count": 12,
   "metadata": {
    "_uuid": "2bd5e479d3aa211bcb5fe32ce9c4d71cd012eefa"
   },
   "outputs": [],
   "source": [
    "def get_iou_vector(A, B):\n",
    "    batch_size = A.shape[0]\n",
    "    metric = []\n",
    "    for batch in range(batch_size):\n",
    "        t, p = A[batch]>0, B[batch]>0\n",
    "        intersection = np.logical_and(t, p)\n",
    "        union = np.logical_or(t, p)\n",
    "        iou = (np.sum(intersection > 0) + 1e-10 )/ (np.sum(union > 0) + 1e-10)\n",
    "        thresholds = np.arange(0.5, 1, 0.05)\n",
    "        s = []\n",
    "        for thresh in thresholds:\n",
    "            s.append(iou > thresh)\n",
    "        metric.append(np.mean(s))\n",
    "\n",
    "    return np.mean(metric)\n",
    "\n",
    "def lb(label, pred):\n",
    "    return tf.py_func(get_iou_vector, [label, pred > 0], tf.float64)"
   ]
  },
  {
   "cell_type": "code",
   "execution_count": 13,
   "metadata": {
    "_uuid": "e25caa2102813289cbd74796b612fbbfaaff8154"
   },
   "outputs": [],
   "source": [
    "# code download from: https://github.com/bermanmaxim/LovaszSoftmax\n",
    "def lovasz_grad(gt_sorted):\n",
    "    \"\"\"\n",
    "    Computes gradient of the Lovasz extension w.r.t sorted errors\n",
    "    See Alg. 1 in paper\n",
    "    \"\"\"\n",
    "    gts = tf.reduce_sum(gt_sorted)\n",
    "    intersection = gts - tf.cumsum(gt_sorted)\n",
    "    union = gts + tf.cumsum(1. - gt_sorted)\n",
    "    jaccard = 1. - intersection / union\n",
    "    jaccard = tf.concat((jaccard[0:1], jaccard[1:] - jaccard[:-1]), 0)\n",
    "    return jaccard\n",
    "\n",
    "\n",
    "# --------------------------- BINARY LOSSES ---------------------------\n",
    "\n",
    "def lovasz_hinge(logits, labels, per_image=True, ignore=None):\n",
    "    \"\"\"\n",
    "    Binary Lovasz hinge loss\n",
    "      logits: [B, H, W] Variable, logits at each pixel (between -\\infty and +\\infty)\n",
    "      labels: [B, H, W] Tensor, binary ground truth masks (0 or 1)\n",
    "      per_image: compute the loss per image instead of per batch\n",
    "      ignore: void class id\n",
    "    \"\"\"\n",
    "    if per_image:\n",
    "        def treat_image(log_lab):\n",
    "            log, lab = log_lab\n",
    "            log, lab = tf.expand_dims(log, 0), tf.expand_dims(lab, 0)\n",
    "            log, lab = flatten_binary_scores(log, lab, ignore)\n",
    "            return lovasz_hinge_flat(log, lab)\n",
    "        losses = tf.map_fn(treat_image, (logits, labels), dtype=tf.float32)\n",
    "        loss = tf.reduce_mean(losses)\n",
    "    else:\n",
    "        loss = lovasz_hinge_flat(*flatten_binary_scores(logits, labels, ignore))\n",
    "    return loss\n",
    "\n",
    "\n",
    "def lovasz_hinge_flat(logits, labels):\n",
    "    \"\"\"\n",
    "    Binary Lovasz hinge loss\n",
    "      logits: [P] Variable, logits at each prediction (between -\\infty and +\\infty)\n",
    "      labels: [P] Tensor, binary ground truth labels (0 or 1)\n",
    "      ignore: label to ignore\n",
    "    \"\"\"\n",
    "\n",
    "    def compute_loss():\n",
    "        labelsf = tf.cast(labels, logits.dtype)\n",
    "        signs = 2. * labelsf - 1.\n",
    "        errors = 1. - logits * tf.stop_gradient(signs)\n",
    "        errors_sorted, perm = tf.nn.top_k(errors, k=tf.shape(errors)[0], name=\"descending_sort\")\n",
    "        gt_sorted = tf.gather(labelsf, perm)\n",
    "        grad = lovasz_grad(gt_sorted)\n",
    "        loss = tf.tensordot(tf.nn.relu(errors_sorted), tf.stop_gradient(grad), 1, name=\"loss_non_void\")\n",
    "        return loss\n",
    "\n",
    "    # deal with the void prediction case (only void pixels)\n",
    "    loss = tf.cond(tf.equal(tf.shape(logits)[0], 0),\n",
    "                   lambda: tf.reduce_sum(logits) * 0.,\n",
    "                   compute_loss,\n",
    "                   strict=True,\n",
    "                   name=\"loss\"\n",
    "                   )\n",
    "    return loss\n",
    "\n",
    "\n",
    "def flatten_binary_scores(scores, labels, ignore=None):\n",
    "    \"\"\"\n",
    "    Flattens predictions in the batch (binary case)\n",
    "    Remove labels equal to 'ignore'\n",
    "    \"\"\"\n",
    "    scores = tf.reshape(scores, (-1,))\n",
    "    labels = tf.reshape(labels, (-1,))\n",
    "    if ignore is None:\n",
    "        return scores, labels\n",
    "    valid = tf.not_equal(labels, ignore)\n",
    "    vscores = tf.boolean_mask(scores, valid, name='valid_scores')\n",
    "    vlabels = tf.boolean_mask(labels, valid, name='valid_labels')\n",
    "    return vscores, vlabels\n",
    "\n",
    "def lovasz_loss(y_true, y_pred):\n",
    "    y_true, y_pred = K.cast(K.squeeze(y_true, -1), 'int32'), K.cast(K.squeeze(y_pred, -1), 'float32')\n",
    "    #logits = K.log(y_pred / (1. - y_pred))\n",
    "    logits = y_pred #Jiaxin\n",
    "    loss = lovasz_hinge(logits, y_true, per_image = True, ignore = None)\n",
    "    return loss"
   ]
  },
  {
   "cell_type": "code",
   "execution_count": 14,
   "metadata": {
    "_uuid": "998b62965499a3efa465331c439ee73684d92053"
   },
   "outputs": [],
   "source": [
    "def bce(y_true, y_pred):\n",
    "    return K.mean(K.binary_crossentropy(y_true, K.sigmoid(y_pred)))"
   ]
  },
  {
   "cell_type": "code",
   "execution_count": 15,
   "metadata": {
    "_uuid": "072ab621d38cc93d26998f391357cb6efc791600"
   },
   "outputs": [],
   "source": [
    "#Data augmentation\n",
    "def more_data(x, y, d):\n",
    "    # flip lr\n",
    "    x = np.append(x, x[:,:,::-1], axis=0)\n",
    "    y = np.append(y, y[:,:,::-1], axis=0)\n",
    "    d = np.append(d, d, axis=0)\n",
    "    \n",
    "    # warp\n",
    "    s = x.shape[2]//2\n",
    "    x = np.append(x, np.roll(x, s, axis=2), axis=0)\n",
    "    y = np.append(y, np.roll(y, s, axis=2), axis=0)\n",
    "    d = np.append(d, d, axis=0)\n",
    "    \n",
    "    nx = np.append( x[:,:,:s][:,:,::-1], x[:,:,s:], axis=2 )\n",
    "    ny = np.append( y[:,:,:s][:,:,::-1], y[:,:,s:], axis=2 )\n",
    "    x = np.append(x, nx, axis=0)\n",
    "    y = np.append(y, ny, axis=0)\n",
    "    d = np.append(d, d, axis=0)\n",
    "    \n",
    "    return x, y, d\n"
   ]
  },
  {
   "cell_type": "code",
   "execution_count": 16,
   "metadata": {},
   "outputs": [
    {
     "name": "stdout",
     "output_type": "stream",
     "text": [
      "(25600, 101, 101, 1)\n",
      "(25600,)\n",
      "(800, 101, 101, 1)\n"
     ]
    }
   ],
   "source": [
    "import gc\n",
    "x_train, y_train, depth_train = more_data(x_train, y_train, depth_train)\n",
    "gc.collect()\n",
    "print(x_train.shape)\n",
    "print(depth_train.shape)\n",
    "print(y_valid.shape)"
   ]
  },
  {
   "cell_type": "code",
   "execution_count": 17,
   "metadata": {
    "_uuid": "30622932f68888e895a9b8cac91810a1bb3c5e75"
   },
   "outputs": [
    {
     "name": "stdout",
     "output_type": "stream",
     "text": [
      "__________________________________________________________________________________________________\n",
      "Layer (type)                    Output Shape         Param #     Connected to                     \n",
      "==================================================================================================\n",
      "input_1 (InputLayer)            (None, 101, 101, 1)  0                                            \n",
      "__________________________________________________________________________________________________\n",
      "lambda_1 (Lambda)               (None, 101, 101, 1)  0           input_1[0][0]                    \n",
      "__________________________________________________________________________________________________\n",
      "conv2d_1 (Conv2D)               (None, 101, 101, 16) 160         lambda_1[0][0]                   \n",
      "__________________________________________________________________________________________________\n",
      "batch_normalization_1 (BatchNor (None, 101, 101, 16) 64          conv2d_1[0][0]                   \n",
      "__________________________________________________________________________________________________\n",
      "activation_1 (Activation)       (None, 101, 101, 16) 0           batch_normalization_1[0][0]      \n",
      "__________________________________________________________________________________________________\n",
      "conv2d_2 (Conv2D)               (None, 101, 101, 16) 2320        activation_1[0][0]               \n",
      "__________________________________________________________________________________________________\n",
      "batch_normalization_2 (BatchNor (None, 101, 101, 16) 64          conv2d_2[0][0]                   \n",
      "__________________________________________________________________________________________________\n",
      "activation_2 (Activation)       (None, 101, 101, 16) 0           batch_normalization_2[0][0]      \n",
      "__________________________________________________________________________________________________\n",
      "conv2d_3 (Conv2D)               (None, 101, 101, 16) 2320        activation_2[0][0]               \n",
      "__________________________________________________________________________________________________\n",
      "add_1 (Add)                     (None, 101, 101, 16) 0           conv2d_1[0][0]                   \n",
      "                                                                 conv2d_3[0][0]                   \n",
      "__________________________________________________________________________________________________\n",
      "batch_normalization_3 (BatchNor (None, 101, 101, 16) 64          add_1[0][0]                      \n",
      "__________________________________________________________________________________________________\n",
      "activation_3 (Activation)       (None, 101, 101, 16) 0           batch_normalization_3[0][0]      \n",
      "__________________________________________________________________________________________________\n",
      "conv2d_4 (Conv2D)               (None, 101, 101, 16) 2320        activation_3[0][0]               \n",
      "__________________________________________________________________________________________________\n",
      "batch_normalization_4 (BatchNor (None, 101, 101, 16) 64          conv2d_4[0][0]                   \n",
      "__________________________________________________________________________________________________\n",
      "activation_4 (Activation)       (None, 101, 101, 16) 0           batch_normalization_4[0][0]      \n",
      "__________________________________________________________________________________________________\n",
      "conv2d_5 (Conv2D)               (None, 101, 101, 16) 2320        activation_4[0][0]               \n",
      "__________________________________________________________________________________________________\n",
      "add_2 (Add)                     (None, 101, 101, 16) 0           add_1[0][0]                      \n",
      "                                                                 conv2d_5[0][0]                   \n",
      "__________________________________________________________________________________________________\n",
      "batch_normalization_5 (BatchNor (None, 101, 101, 16) 64          add_2[0][0]                      \n",
      "__________________________________________________________________________________________________\n",
      "activation_5 (Activation)       (None, 101, 101, 16) 0           batch_normalization_5[0][0]      \n",
      "__________________________________________________________________________________________________\n",
      "max_pooling2d_1 (MaxPooling2D)  (None, 50, 50, 16)   0           activation_5[0][0]               \n",
      "__________________________________________________________________________________________________\n",
      "dropout_1 (Dropout)             (None, 50, 50, 16)   0           max_pooling2d_1[0][0]            \n",
      "__________________________________________________________________________________________________\n",
      "conv2d_6 (Conv2D)               (None, 50, 50, 32)   4640        dropout_1[0][0]                  \n",
      "__________________________________________________________________________________________________\n",
      "batch_normalization_6 (BatchNor (None, 50, 50, 32)   128         conv2d_6[0][0]                   \n",
      "__________________________________________________________________________________________________\n",
      "activation_6 (Activation)       (None, 50, 50, 32)   0           batch_normalization_6[0][0]      \n",
      "__________________________________________________________________________________________________\n",
      "conv2d_7 (Conv2D)               (None, 50, 50, 32)   9248        activation_6[0][0]               \n",
      "__________________________________________________________________________________________________\n",
      "batch_normalization_7 (BatchNor (None, 50, 50, 32)   128         conv2d_7[0][0]                   \n",
      "__________________________________________________________________________________________________\n",
      "activation_7 (Activation)       (None, 50, 50, 32)   0           batch_normalization_7[0][0]      \n",
      "__________________________________________________________________________________________________\n",
      "conv2d_8 (Conv2D)               (None, 50, 50, 32)   9248        activation_7[0][0]               \n",
      "__________________________________________________________________________________________________\n",
      "add_3 (Add)                     (None, 50, 50, 32)   0           conv2d_6[0][0]                   \n",
      "                                                                 conv2d_8[0][0]                   \n",
      "__________________________________________________________________________________________________\n",
      "batch_normalization_8 (BatchNor (None, 50, 50, 32)   128         add_3[0][0]                      \n",
      "__________________________________________________________________________________________________\n",
      "activation_8 (Activation)       (None, 50, 50, 32)   0           batch_normalization_8[0][0]      \n",
      "__________________________________________________________________________________________________\n",
      "conv2d_9 (Conv2D)               (None, 50, 50, 32)   9248        activation_8[0][0]               \n",
      "__________________________________________________________________________________________________\n",
      "batch_normalization_9 (BatchNor (None, 50, 50, 32)   128         conv2d_9[0][0]                   \n",
      "__________________________________________________________________________________________________\n",
      "activation_9 (Activation)       (None, 50, 50, 32)   0           batch_normalization_9[0][0]      \n",
      "__________________________________________________________________________________________________\n",
      "conv2d_10 (Conv2D)              (None, 50, 50, 32)   9248        activation_9[0][0]               \n",
      "__________________________________________________________________________________________________\n",
      "add_4 (Add)                     (None, 50, 50, 32)   0           add_3[0][0]                      \n",
      "                                                                 conv2d_10[0][0]                  \n",
      "__________________________________________________________________________________________________\n",
      "batch_normalization_10 (BatchNo (None, 50, 50, 32)   128         add_4[0][0]                      \n",
      "__________________________________________________________________________________________________\n",
      "activation_10 (Activation)      (None, 50, 50, 32)   0           batch_normalization_10[0][0]     \n",
      "__________________________________________________________________________________________________\n",
      "max_pooling2d_2 (MaxPooling2D)  (None, 25, 25, 32)   0           activation_10[0][0]              \n",
      "__________________________________________________________________________________________________\n",
      "dropout_2 (Dropout)             (None, 25, 25, 32)   0           max_pooling2d_2[0][0]            \n",
      "__________________________________________________________________________________________________\n",
      "conv2d_11 (Conv2D)              (None, 25, 25, 64)   18496       dropout_2[0][0]                  \n",
      "__________________________________________________________________________________________________\n",
      "batch_normalization_11 (BatchNo (None, 25, 25, 64)   256         conv2d_11[0][0]                  \n",
      "__________________________________________________________________________________________________\n",
      "activation_11 (Activation)      (None, 25, 25, 64)   0           batch_normalization_11[0][0]     \n",
      "__________________________________________________________________________________________________\n",
      "conv2d_12 (Conv2D)              (None, 25, 25, 64)   36928       activation_11[0][0]              \n",
      "__________________________________________________________________________________________________\n",
      "batch_normalization_12 (BatchNo (None, 25, 25, 64)   256         conv2d_12[0][0]                  \n",
      "__________________________________________________________________________________________________\n",
      "activation_12 (Activation)      (None, 25, 25, 64)   0           batch_normalization_12[0][0]     \n",
      "__________________________________________________________________________________________________\n",
      "conv2d_13 (Conv2D)              (None, 25, 25, 64)   36928       activation_12[0][0]              \n",
      "__________________________________________________________________________________________________\n",
      "add_5 (Add)                     (None, 25, 25, 64)   0           conv2d_11[0][0]                  \n",
      "                                                                 conv2d_13[0][0]                  \n",
      "__________________________________________________________________________________________________\n",
      "batch_normalization_13 (BatchNo (None, 25, 25, 64)   256         add_5[0][0]                      \n",
      "__________________________________________________________________________________________________\n",
      "activation_13 (Activation)      (None, 25, 25, 64)   0           batch_normalization_13[0][0]     \n",
      "__________________________________________________________________________________________________\n",
      "conv2d_14 (Conv2D)              (None, 25, 25, 64)   36928       activation_13[0][0]              \n",
      "__________________________________________________________________________________________________\n",
      "batch_normalization_14 (BatchNo (None, 25, 25, 64)   256         conv2d_14[0][0]                  \n",
      "__________________________________________________________________________________________________\n",
      "activation_14 (Activation)      (None, 25, 25, 64)   0           batch_normalization_14[0][0]     \n",
      "__________________________________________________________________________________________________\n",
      "conv2d_15 (Conv2D)              (None, 25, 25, 64)   36928       activation_14[0][0]              \n",
      "__________________________________________________________________________________________________\n",
      "add_6 (Add)                     (None, 25, 25, 64)   0           add_5[0][0]                      \n",
      "                                                                 conv2d_15[0][0]                  \n",
      "__________________________________________________________________________________________________\n",
      "batch_normalization_15 (BatchNo (None, 25, 25, 64)   256         add_6[0][0]                      \n",
      "__________________________________________________________________________________________________\n",
      "activation_15 (Activation)      (None, 25, 25, 64)   0           batch_normalization_15[0][0]     \n",
      "__________________________________________________________________________________________________\n",
      "max_pooling2d_3 (MaxPooling2D)  (None, 12, 12, 64)   0           activation_15[0][0]              \n",
      "__________________________________________________________________________________________________\n",
      "dropout_3 (Dropout)             (None, 12, 12, 64)   0           max_pooling2d_3[0][0]            \n",
      "__________________________________________________________________________________________________\n",
      "conv2d_16 (Conv2D)              (None, 12, 12, 128)  73856       dropout_3[0][0]                  \n",
      "__________________________________________________________________________________________________\n",
      "batch_normalization_16 (BatchNo (None, 12, 12, 128)  512         conv2d_16[0][0]                  \n",
      "__________________________________________________________________________________________________\n",
      "activation_16 (Activation)      (None, 12, 12, 128)  0           batch_normalization_16[0][0]     \n",
      "__________________________________________________________________________________________________\n",
      "conv2d_17 (Conv2D)              (None, 12, 12, 128)  147584      activation_16[0][0]              \n",
      "__________________________________________________________________________________________________\n",
      "batch_normalization_17 (BatchNo (None, 12, 12, 128)  512         conv2d_17[0][0]                  \n",
      "__________________________________________________________________________________________________\n",
      "activation_17 (Activation)      (None, 12, 12, 128)  0           batch_normalization_17[0][0]     \n",
      "__________________________________________________________________________________________________\n",
      "conv2d_18 (Conv2D)              (None, 12, 12, 128)  147584      activation_17[0][0]              \n",
      "__________________________________________________________________________________________________\n",
      "add_7 (Add)                     (None, 12, 12, 128)  0           conv2d_16[0][0]                  \n",
      "                                                                 conv2d_18[0][0]                  \n",
      "__________________________________________________________________________________________________\n",
      "batch_normalization_18 (BatchNo (None, 12, 12, 128)  512         add_7[0][0]                      \n",
      "__________________________________________________________________________________________________\n",
      "activation_18 (Activation)      (None, 12, 12, 128)  0           batch_normalization_18[0][0]     \n",
      "__________________________________________________________________________________________________\n",
      "conv2d_19 (Conv2D)              (None, 12, 12, 128)  147584      activation_18[0][0]              \n",
      "__________________________________________________________________________________________________\n",
      "batch_normalization_19 (BatchNo (None, 12, 12, 128)  512         conv2d_19[0][0]                  \n",
      "__________________________________________________________________________________________________\n",
      "activation_19 (Activation)      (None, 12, 12, 128)  0           batch_normalization_19[0][0]     \n",
      "__________________________________________________________________________________________________\n",
      "conv2d_20 (Conv2D)              (None, 12, 12, 128)  147584      activation_19[0][0]              \n",
      "__________________________________________________________________________________________________\n",
      "add_8 (Add)                     (None, 12, 12, 128)  0           add_7[0][0]                      \n",
      "                                                                 conv2d_20[0][0]                  \n",
      "__________________________________________________________________________________________________\n",
      "batch_normalization_20 (BatchNo (None, 12, 12, 128)  512         add_8[0][0]                      \n",
      "__________________________________________________________________________________________________\n",
      "input_2 (InputLayer)            (None, 1)            0                                            \n",
      "__________________________________________________________________________________________________\n",
      "activation_20 (Activation)      (None, 12, 12, 128)  0           batch_normalization_20[0][0]     \n",
      "__________________________________________________________________________________________________\n",
      "lambda_2 (Lambda)               (None, 1)            0           input_2[0][0]                    \n",
      "__________________________________________________________________________________________________\n",
      "max_pooling2d_4 (MaxPooling2D)  (None, 6, 6, 128)    0           activation_20[0][0]              \n",
      "__________________________________________________________________________________________________\n",
      "repeat_vector_1 (RepeatVector)  (None, 36, 1)        0           lambda_2[0][0]                   \n",
      "__________________________________________________________________________________________________\n",
      "dropout_4 (Dropout)             (None, 6, 6, 128)    0           max_pooling2d_4[0][0]            \n",
      "__________________________________________________________________________________________________\n",
      "reshape_1 (Reshape)             (None, 6, 6, 1)      0           repeat_vector_1[0][0]            \n",
      "__________________________________________________________________________________________________\n",
      "concatenate_1 (Concatenate)     (None, 6, 6, 129)    0           dropout_4[0][0]                  \n",
      "                                                                 reshape_1[0][0]                  \n",
      "__________________________________________________________________________________________________\n",
      "conv2d_21 (Conv2D)              (None, 6, 6, 256)    297472      concatenate_1[0][0]              \n",
      "__________________________________________________________________________________________________\n",
      "batch_normalization_21 (BatchNo (None, 6, 6, 256)    1024        conv2d_21[0][0]                  \n",
      "__________________________________________________________________________________________________\n",
      "activation_21 (Activation)      (None, 6, 6, 256)    0           batch_normalization_21[0][0]     \n",
      "__________________________________________________________________________________________________\n",
      "conv2d_22 (Conv2D)              (None, 6, 6, 256)    590080      activation_21[0][0]              \n",
      "__________________________________________________________________________________________________\n",
      "batch_normalization_22 (BatchNo (None, 6, 6, 256)    1024        conv2d_22[0][0]                  \n",
      "__________________________________________________________________________________________________\n",
      "activation_22 (Activation)      (None, 6, 6, 256)    0           batch_normalization_22[0][0]     \n",
      "__________________________________________________________________________________________________\n",
      "conv2d_23 (Conv2D)              (None, 6, 6, 256)    590080      activation_22[0][0]              \n",
      "__________________________________________________________________________________________________\n",
      "add_9 (Add)                     (None, 6, 6, 256)    0           conv2d_21[0][0]                  \n",
      "                                                                 conv2d_23[0][0]                  \n",
      "__________________________________________________________________________________________________\n",
      "batch_normalization_23 (BatchNo (None, 6, 6, 256)    1024        add_9[0][0]                      \n",
      "__________________________________________________________________________________________________\n",
      "activation_23 (Activation)      (None, 6, 6, 256)    0           batch_normalization_23[0][0]     \n",
      "__________________________________________________________________________________________________\n",
      "conv2d_24 (Conv2D)              (None, 6, 6, 256)    590080      activation_23[0][0]              \n",
      "__________________________________________________________________________________________________\n",
      "batch_normalization_24 (BatchNo (None, 6, 6, 256)    1024        conv2d_24[0][0]                  \n",
      "__________________________________________________________________________________________________\n",
      "activation_24 (Activation)      (None, 6, 6, 256)    0           batch_normalization_24[0][0]     \n",
      "__________________________________________________________________________________________________\n",
      "conv2d_25 (Conv2D)              (None, 6, 6, 256)    590080      activation_24[0][0]              \n",
      "__________________________________________________________________________________________________\n",
      "add_10 (Add)                    (None, 6, 6, 256)    0           add_9[0][0]                      \n",
      "                                                                 conv2d_25[0][0]                  \n",
      "__________________________________________________________________________________________________\n",
      "batch_normalization_25 (BatchNo (None, 6, 6, 256)    1024        add_10[0][0]                     \n",
      "__________________________________________________________________________________________________\n",
      "activation_25 (Activation)      (None, 6, 6, 256)    0           batch_normalization_25[0][0]     \n",
      "__________________________________________________________________________________________________\n",
      "conv2d_26 (Conv2D)              (None, 6, 6, 256)    590080      activation_25[0][0]              \n",
      "__________________________________________________________________________________________________\n",
      "batch_normalization_26 (BatchNo (None, 6, 6, 256)    1024        conv2d_26[0][0]                  \n",
      "__________________________________________________________________________________________________\n",
      "activation_26 (Activation)      (None, 6, 6, 256)    0           batch_normalization_26[0][0]     \n",
      "__________________________________________________________________________________________________\n",
      "conv2d_27 (Conv2D)              (None, 6, 6, 256)    590080      activation_26[0][0]              \n",
      "__________________________________________________________________________________________________\n",
      "add_11 (Add)                    (None, 6, 6, 256)    0           add_10[0][0]                     \n",
      "                                                                 conv2d_27[0][0]                  \n",
      "__________________________________________________________________________________________________\n",
      "batch_normalization_27 (BatchNo (None, 6, 6, 256)    1024        add_11[0][0]                     \n",
      "__________________________________________________________________________________________________\n",
      "activation_27 (Activation)      (None, 6, 6, 256)    0           batch_normalization_27[0][0]     \n",
      "__________________________________________________________________________________________________\n",
      "lambda_3 (Lambda)               (None, 12, 12, 256)  0           activation_27[0][0]              \n",
      "__________________________________________________________________________________________________\n",
      "conv2d_28 (Conv2D)              (None, 12, 12, 128)  131200      lambda_3[0][0]                   \n",
      "__________________________________________________________________________________________________\n",
      "concatenate_2 (Concatenate)     (None, 12, 12, 256)  0           activation_20[0][0]              \n",
      "                                                                 conv2d_28[0][0]                  \n",
      "__________________________________________________________________________________________________\n",
      "dropout_5 (Dropout)             (None, 12, 12, 256)  0           concatenate_2[0][0]              \n",
      "__________________________________________________________________________________________________\n",
      "conv2d_29 (Conv2D)              (None, 12, 12, 128)  295040      dropout_5[0][0]                  \n",
      "__________________________________________________________________________________________________\n",
      "batch_normalization_28 (BatchNo (None, 12, 12, 128)  512         conv2d_29[0][0]                  \n",
      "__________________________________________________________________________________________________\n",
      "activation_28 (Activation)      (None, 12, 12, 128)  0           batch_normalization_28[0][0]     \n",
      "__________________________________________________________________________________________________\n",
      "conv2d_30 (Conv2D)              (None, 12, 12, 128)  147584      activation_28[0][0]              \n",
      "__________________________________________________________________________________________________\n",
      "batch_normalization_29 (BatchNo (None, 12, 12, 128)  512         conv2d_30[0][0]                  \n",
      "__________________________________________________________________________________________________\n",
      "activation_29 (Activation)      (None, 12, 12, 128)  0           batch_normalization_29[0][0]     \n",
      "__________________________________________________________________________________________________\n",
      "conv2d_31 (Conv2D)              (None, 12, 12, 128)  147584      activation_29[0][0]              \n",
      "__________________________________________________________________________________________________\n",
      "add_12 (Add)                    (None, 12, 12, 128)  0           conv2d_29[0][0]                  \n",
      "                                                                 conv2d_31[0][0]                  \n",
      "__________________________________________________________________________________________________\n",
      "batch_normalization_30 (BatchNo (None, 12, 12, 128)  512         add_12[0][0]                     \n",
      "__________________________________________________________________________________________________\n",
      "activation_30 (Activation)      (None, 12, 12, 128)  0           batch_normalization_30[0][0]     \n",
      "__________________________________________________________________________________________________\n",
      "conv2d_32 (Conv2D)              (None, 12, 12, 128)  147584      activation_30[0][0]              \n",
      "__________________________________________________________________________________________________\n",
      "batch_normalization_31 (BatchNo (None, 12, 12, 128)  512         conv2d_32[0][0]                  \n",
      "__________________________________________________________________________________________________\n",
      "activation_31 (Activation)      (None, 12, 12, 128)  0           batch_normalization_31[0][0]     \n",
      "__________________________________________________________________________________________________\n",
      "conv2d_33 (Conv2D)              (None, 12, 12, 128)  147584      activation_31[0][0]              \n",
      "__________________________________________________________________________________________________\n",
      "add_13 (Add)                    (None, 12, 12, 128)  0           add_12[0][0]                     \n",
      "                                                                 conv2d_33[0][0]                  \n",
      "__________________________________________________________________________________________________\n",
      "batch_normalization_32 (BatchNo (None, 12, 12, 128)  512         add_13[0][0]                     \n",
      "__________________________________________________________________________________________________\n",
      "activation_32 (Activation)      (None, 12, 12, 128)  0           batch_normalization_32[0][0]     \n",
      "__________________________________________________________________________________________________\n",
      "lambda_4 (Lambda)               (None, 25, 25, 128)  0           activation_32[0][0]              \n",
      "__________________________________________________________________________________________________\n",
      "conv2d_34 (Conv2D)              (None, 25, 25, 64)   32832       lambda_4[0][0]                   \n",
      "__________________________________________________________________________________________________\n",
      "concatenate_3 (Concatenate)     (None, 25, 25, 128)  0           activation_15[0][0]              \n",
      "                                                                 conv2d_34[0][0]                  \n",
      "__________________________________________________________________________________________________\n",
      "dropout_6 (Dropout)             (None, 25, 25, 128)  0           concatenate_3[0][0]              \n",
      "__________________________________________________________________________________________________\n",
      "conv2d_35 (Conv2D)              (None, 25, 25, 64)   73792       dropout_6[0][0]                  \n",
      "__________________________________________________________________________________________________\n",
      "batch_normalization_33 (BatchNo (None, 25, 25, 64)   256         conv2d_35[0][0]                  \n",
      "__________________________________________________________________________________________________\n",
      "activation_33 (Activation)      (None, 25, 25, 64)   0           batch_normalization_33[0][0]     \n",
      "__________________________________________________________________________________________________\n",
      "conv2d_36 (Conv2D)              (None, 25, 25, 64)   36928       activation_33[0][0]              \n",
      "__________________________________________________________________________________________________\n",
      "batch_normalization_34 (BatchNo (None, 25, 25, 64)   256         conv2d_36[0][0]                  \n",
      "__________________________________________________________________________________________________\n",
      "activation_34 (Activation)      (None, 25, 25, 64)   0           batch_normalization_34[0][0]     \n",
      "__________________________________________________________________________________________________\n",
      "conv2d_37 (Conv2D)              (None, 25, 25, 64)   36928       activation_34[0][0]              \n",
      "__________________________________________________________________________________________________\n",
      "add_14 (Add)                    (None, 25, 25, 64)   0           conv2d_35[0][0]                  \n",
      "                                                                 conv2d_37[0][0]                  \n",
      "__________________________________________________________________________________________________\n",
      "batch_normalization_35 (BatchNo (None, 25, 25, 64)   256         add_14[0][0]                     \n",
      "__________________________________________________________________________________________________\n",
      "activation_35 (Activation)      (None, 25, 25, 64)   0           batch_normalization_35[0][0]     \n",
      "__________________________________________________________________________________________________\n",
      "conv2d_38 (Conv2D)              (None, 25, 25, 64)   36928       activation_35[0][0]              \n",
      "__________________________________________________________________________________________________\n",
      "batch_normalization_36 (BatchNo (None, 25, 25, 64)   256         conv2d_38[0][0]                  \n",
      "__________________________________________________________________________________________________\n",
      "activation_36 (Activation)      (None, 25, 25, 64)   0           batch_normalization_36[0][0]     \n",
      "__________________________________________________________________________________________________\n",
      "conv2d_39 (Conv2D)              (None, 25, 25, 64)   36928       activation_36[0][0]              \n",
      "__________________________________________________________________________________________________\n",
      "add_15 (Add)                    (None, 25, 25, 64)   0           add_14[0][0]                     \n",
      "                                                                 conv2d_39[0][0]                  \n",
      "__________________________________________________________________________________________________\n",
      "batch_normalization_37 (BatchNo (None, 25, 25, 64)   256         add_15[0][0]                     \n",
      "__________________________________________________________________________________________________\n",
      "activation_37 (Activation)      (None, 25, 25, 64)   0           batch_normalization_37[0][0]     \n",
      "__________________________________________________________________________________________________\n",
      "lambda_5 (Lambda)               (None, 50, 50, 64)   0           activation_37[0][0]              \n",
      "__________________________________________________________________________________________________\n",
      "conv2d_40 (Conv2D)              (None, 50, 50, 32)   8224        lambda_5[0][0]                   \n",
      "__________________________________________________________________________________________________\n",
      "concatenate_4 (Concatenate)     (None, 50, 50, 64)   0           activation_10[0][0]              \n",
      "                                                                 conv2d_40[0][0]                  \n",
      "__________________________________________________________________________________________________\n",
      "dropout_7 (Dropout)             (None, 50, 50, 64)   0           concatenate_4[0][0]              \n",
      "__________________________________________________________________________________________________\n",
      "conv2d_41 (Conv2D)              (None, 50, 50, 32)   18464       dropout_7[0][0]                  \n",
      "__________________________________________________________________________________________________\n",
      "batch_normalization_38 (BatchNo (None, 50, 50, 32)   128         conv2d_41[0][0]                  \n",
      "__________________________________________________________________________________________________\n",
      "activation_38 (Activation)      (None, 50, 50, 32)   0           batch_normalization_38[0][0]     \n",
      "__________________________________________________________________________________________________\n",
      "conv2d_42 (Conv2D)              (None, 50, 50, 32)   9248        activation_38[0][0]              \n",
      "__________________________________________________________________________________________________\n",
      "batch_normalization_39 (BatchNo (None, 50, 50, 32)   128         conv2d_42[0][0]                  \n",
      "__________________________________________________________________________________________________\n",
      "activation_39 (Activation)      (None, 50, 50, 32)   0           batch_normalization_39[0][0]     \n",
      "__________________________________________________________________________________________________\n",
      "conv2d_43 (Conv2D)              (None, 50, 50, 32)   9248        activation_39[0][0]              \n",
      "__________________________________________________________________________________________________\n",
      "add_16 (Add)                    (None, 50, 50, 32)   0           conv2d_41[0][0]                  \n",
      "                                                                 conv2d_43[0][0]                  \n",
      "__________________________________________________________________________________________________\n",
      "batch_normalization_40 (BatchNo (None, 50, 50, 32)   128         add_16[0][0]                     \n",
      "__________________________________________________________________________________________________\n",
      "activation_40 (Activation)      (None, 50, 50, 32)   0           batch_normalization_40[0][0]     \n",
      "__________________________________________________________________________________________________\n",
      "conv2d_44 (Conv2D)              (None, 50, 50, 32)   9248        activation_40[0][0]              \n",
      "__________________________________________________________________________________________________\n",
      "batch_normalization_41 (BatchNo (None, 50, 50, 32)   128         conv2d_44[0][0]                  \n",
      "__________________________________________________________________________________________________\n",
      "activation_41 (Activation)      (None, 50, 50, 32)   0           batch_normalization_41[0][0]     \n",
      "__________________________________________________________________________________________________\n",
      "conv2d_45 (Conv2D)              (None, 50, 50, 32)   9248        activation_41[0][0]              \n",
      "__________________________________________________________________________________________________\n",
      "add_17 (Add)                    (None, 50, 50, 32)   0           add_16[0][0]                     \n",
      "                                                                 conv2d_45[0][0]                  \n",
      "__________________________________________________________________________________________________\n",
      "batch_normalization_42 (BatchNo (None, 50, 50, 32)   128         add_17[0][0]                     \n",
      "__________________________________________________________________________________________________\n",
      "activation_42 (Activation)      (None, 50, 50, 32)   0           batch_normalization_42[0][0]     \n",
      "__________________________________________________________________________________________________\n",
      "lambda_6 (Lambda)               (None, 101, 101, 32) 0           activation_42[0][0]              \n",
      "__________________________________________________________________________________________________\n",
      "conv2d_46 (Conv2D)              (None, 101, 101, 16) 2064        lambda_6[0][0]                   \n",
      "__________________________________________________________________________________________________\n",
      "concatenate_5 (Concatenate)     (None, 101, 101, 32) 0           activation_5[0][0]               \n",
      "                                                                 conv2d_46[0][0]                  \n",
      "__________________________________________________________________________________________________\n",
      "dropout_8 (Dropout)             (None, 101, 101, 32) 0           concatenate_5[0][0]              \n",
      "__________________________________________________________________________________________________\n",
      "conv2d_47 (Conv2D)              (None, 101, 101, 16) 4624        dropout_8[0][0]                  \n",
      "__________________________________________________________________________________________________\n",
      "batch_normalization_43 (BatchNo (None, 101, 101, 16) 64          conv2d_47[0][0]                  \n",
      "__________________________________________________________________________________________________\n",
      "activation_43 (Activation)      (None, 101, 101, 16) 0           batch_normalization_43[0][0]     \n",
      "__________________________________________________________________________________________________\n",
      "conv2d_48 (Conv2D)              (None, 101, 101, 16) 2320        activation_43[0][0]              \n",
      "__________________________________________________________________________________________________\n",
      "batch_normalization_44 (BatchNo (None, 101, 101, 16) 64          conv2d_48[0][0]                  \n",
      "__________________________________________________________________________________________________\n",
      "activation_44 (Activation)      (None, 101, 101, 16) 0           batch_normalization_44[0][0]     \n",
      "__________________________________________________________________________________________________\n",
      "conv2d_49 (Conv2D)              (None, 101, 101, 16) 2320        activation_44[0][0]              \n",
      "__________________________________________________________________________________________________\n",
      "add_18 (Add)                    (None, 101, 101, 16) 0           conv2d_47[0][0]                  \n",
      "                                                                 conv2d_49[0][0]                  \n",
      "__________________________________________________________________________________________________\n",
      "batch_normalization_45 (BatchNo (None, 101, 101, 16) 64          add_18[0][0]                     \n",
      "__________________________________________________________________________________________________\n",
      "activation_45 (Activation)      (None, 101, 101, 16) 0           batch_normalization_45[0][0]     \n",
      "__________________________________________________________________________________________________\n",
      "conv2d_50 (Conv2D)              (None, 101, 101, 16) 2320        activation_45[0][0]              \n",
      "__________________________________________________________________________________________________\n",
      "batch_normalization_46 (BatchNo (None, 101, 101, 16) 64          conv2d_50[0][0]                  \n",
      "__________________________________________________________________________________________________\n",
      "activation_46 (Activation)      (None, 101, 101, 16) 0           batch_normalization_46[0][0]     \n",
      "__________________________________________________________________________________________________\n",
      "conv2d_51 (Conv2D)              (None, 101, 101, 16) 2320        activation_46[0][0]              \n",
      "__________________________________________________________________________________________________\n",
      "add_19 (Add)                    (None, 101, 101, 16) 0           add_18[0][0]                     \n",
      "                                                                 conv2d_51[0][0]                  \n",
      "__________________________________________________________________________________________________\n",
      "batch_normalization_47 (BatchNo (None, 101, 101, 16) 64          add_19[0][0]                     \n",
      "__________________________________________________________________________________________________\n",
      "activation_47 (Activation)      (None, 101, 101, 16) 0           batch_normalization_47[0][0]     \n",
      "__________________________________________________________________________________________________\n",
      "conv2d_52 (Conv2D)              (None, 101, 101, 1)  17          activation_47[0][0]              \n",
      "==================================================================================================\n",
      "Total params: 6,086,769\n",
      "Trainable params: 6,078,385\n",
      "Non-trainable params: 8,384\n",
      "__________________________________________________________________________________________________\n"
     ]
    }
   ],
   "source": [
    "model = build_model()\n",
    "model.summary()"
   ]
  },
  {
   "cell_type": "code",
   "execution_count": 18,
   "metadata": {
    "_uuid": "41699081be465c14e193ffad4fd00bd56840f156"
   },
   "outputs": [
    {
     "name": "stdout",
     "output_type": "stream",
     "text": [
      "Train on 25600 samples, validate on 800 samples\n",
      "Epoch 1/50\n",
      " - 100s - loss: 0.3572 - lb: 0.4703 - val_loss: 0.4548 - val_lb: 0.4540\n",
      "\n",
      "Epoch 00001: lb improved from -inf to 0.47030, saving model to Unet_resnet_v5.model\n",
      "Epoch 2/50\n",
      " - 93s - loss: 0.2422 - lb: 0.5693 - val_loss: 0.2417 - val_lb: 0.6195\n",
      "\n",
      "Epoch 00002: lb improved from 0.47030 to 0.56925, saving model to Unet_resnet_v5.model\n",
      "Epoch 3/50\n",
      " - 93s - loss: 0.1946 - lb: 0.6337 - val_loss: 0.1829 - val_lb: 0.6717\n",
      "\n",
      "Epoch 00003: lb improved from 0.56925 to 0.63369, saving model to Unet_resnet_v5.model\n",
      "Epoch 4/50\n",
      " - 93s - loss: 0.1702 - lb: 0.6686 - val_loss: 0.1542 - val_lb: 0.7106\n",
      "\n",
      "Epoch 00004: lb improved from 0.63369 to 0.66861, saving model to Unet_resnet_v5.model\n",
      "Epoch 5/50\n",
      " - 94s - loss: 0.1569 - lb: 0.6889 - val_loss: 0.1484 - val_lb: 0.7052\n",
      "\n",
      "Epoch 00005: lb improved from 0.66861 to 0.68891, saving model to Unet_resnet_v5.model\n",
      "Epoch 6/50\n",
      " - 93s - loss: 0.1464 - lb: 0.7038 - val_loss: 0.1512 - val_lb: 0.7334\n",
      "\n",
      "Epoch 00006: lb improved from 0.68891 to 0.70377, saving model to Unet_resnet_v5.model\n",
      "Epoch 7/50\n",
      " - 93s - loss: 0.1338 - lb: 0.7210 - val_loss: 0.1906 - val_lb: 0.6985\n",
      "\n",
      "Epoch 00007: lb improved from 0.70377 to 0.72103, saving model to Unet_resnet_v5.model\n",
      "Epoch 8/50\n",
      " - 94s - loss: 0.1260 - lb: 0.7272 - val_loss: 0.1716 - val_lb: 0.6911\n",
      "\n",
      "Epoch 00008: lb improved from 0.72103 to 0.72717, saving model to Unet_resnet_v5.model\n",
      "Epoch 9/50\n",
      " - 94s - loss: 0.1156 - lb: 0.7403 - val_loss: 0.2601 - val_lb: 0.7255\n",
      "\n",
      "Epoch 00009: lb improved from 0.72717 to 0.74027, saving model to Unet_resnet_v5.model\n",
      "Epoch 10/50\n",
      " - 94s - loss: 0.1100 - lb: 0.7441 - val_loss: 0.1572 - val_lb: 0.7260\n",
      "\n",
      "Epoch 00010: lb improved from 0.74027 to 0.74414, saving model to Unet_resnet_v5.model\n",
      "Epoch 11/50\n",
      " - 94s - loss: 0.1038 - lb: 0.7532 - val_loss: 0.1520 - val_lb: 0.7666\n",
      "\n",
      "Epoch 00011: lb improved from 0.74414 to 0.75318, saving model to Unet_resnet_v5.model\n",
      "Epoch 12/50\n",
      " - 94s - loss: 0.0952 - lb: 0.7622 - val_loss: 0.1624 - val_lb: 0.7649\n",
      "\n",
      "Epoch 00012: lb improved from 0.75318 to 0.76217, saving model to Unet_resnet_v5.model\n",
      "Epoch 13/50\n",
      " - 94s - loss: 0.0865 - lb: 0.7725 - val_loss: 0.1646 - val_lb: 0.7554\n",
      "\n",
      "Epoch 00013: lb improved from 0.76217 to 0.77247, saving model to Unet_resnet_v5.model\n",
      "Epoch 14/50\n",
      " - 94s - loss: 0.0849 - lb: 0.7725 - val_loss: 0.1349 - val_lb: 0.7645\n",
      "\n",
      "Epoch 00014: lb improved from 0.77247 to 0.77249, saving model to Unet_resnet_v5.model\n",
      "Epoch 15/50\n",
      " - 94s - loss: 0.0864 - lb: 0.7727 - val_loss: 0.1978 - val_lb: 0.7651\n",
      "\n",
      "Epoch 00015: lb improved from 0.77249 to 0.77265, saving model to Unet_resnet_v5.model\n",
      "Epoch 16/50\n",
      " - 93s - loss: 0.0717 - lb: 0.7926 - val_loss: 0.1286 - val_lb: 0.7729\n",
      "\n",
      "Epoch 00016: lb improved from 0.77265 to 0.79258, saving model to Unet_resnet_v5.model\n",
      "Epoch 17/50\n",
      " - 94s - loss: 0.0719 - lb: 0.7923 - val_loss: 0.1839 - val_lb: 0.7779\n",
      "\n",
      "Epoch 00017: lb did not improve from 0.79258\n",
      "Epoch 18/50\n",
      " - 94s - loss: 0.0653 - lb: 0.8009 - val_loss: 0.1756 - val_lb: 0.7545\n",
      "\n",
      "Epoch 00018: lb improved from 0.79258 to 0.80091, saving model to Unet_resnet_v5.model\n",
      "Epoch 19/50\n",
      " - 94s - loss: 0.0676 - lb: 0.7991 - val_loss: 0.2353 - val_lb: 0.6861\n",
      "\n",
      "Epoch 00019: lb did not improve from 0.80091\n",
      "Epoch 20/50\n",
      " - 94s - loss: 0.0641 - lb: 0.8057 - val_loss: 0.1591 - val_lb: 0.7636\n",
      "\n",
      "Epoch 00020: lb improved from 0.80091 to 0.80572, saving model to Unet_resnet_v5.model\n",
      "Epoch 21/50\n",
      " - 94s - loss: 0.0594 - lb: 0.8102 - val_loss: 0.1874 - val_lb: 0.7499\n",
      "\n",
      "Epoch 00021: lb improved from 0.80572 to 0.81020, saving model to Unet_resnet_v5.model\n",
      "Epoch 22/50\n",
      " - 94s - loss: 0.0589 - lb: 0.8101 - val_loss: 0.1969 - val_lb: 0.7465\n",
      "\n",
      "Epoch 00022: lb did not improve from 0.81020\n",
      "Epoch 23/50\n",
      " - 94s - loss: 0.0602 - lb: 0.8101 - val_loss: 0.1914 - val_lb: 0.7284\n",
      "\n",
      "Epoch 00023: lb did not improve from 0.81020\n",
      "Epoch 24/50\n",
      " - 94s - loss: 0.0540 - lb: 0.8191 - val_loss: 0.2285 - val_lb: 0.8054\n",
      "\n",
      "Epoch 00024: lb improved from 0.81020 to 0.81911, saving model to Unet_resnet_v5.model\n",
      "Epoch 25/50\n",
      " - 94s - loss: 0.0527 - lb: 0.8221 - val_loss: 0.2056 - val_lb: 0.7449\n",
      "\n",
      "Epoch 00025: lb improved from 0.81911 to 0.82211, saving model to Unet_resnet_v5.model\n",
      "Epoch 26/50\n",
      " - 94s - loss: 0.0499 - lb: 0.8269 - val_loss: 0.2397 - val_lb: 0.7869\n",
      "\n",
      "Epoch 00026: lb improved from 0.82211 to 0.82691, saving model to Unet_resnet_v5.model\n",
      "Epoch 27/50\n",
      " - 94s - loss: 0.0552 - lb: 0.8195 - val_loss: 0.2380 - val_lb: 0.7617\n",
      "\n",
      "Epoch 00027: lb did not improve from 0.82691\n",
      "Epoch 28/50\n",
      " - 94s - loss: 0.0482 - lb: 0.8298 - val_loss: 0.1727 - val_lb: 0.8087\n",
      "\n",
      "Epoch 00028: lb improved from 0.82691 to 0.82976, saving model to Unet_resnet_v5.model\n",
      "Epoch 29/50\n",
      " - 93s - loss: 0.0482 - lb: 0.8313 - val_loss: 0.1958 - val_lb: 0.7991\n",
      "\n",
      "Epoch 00029: lb improved from 0.82976 to 0.83130, saving model to Unet_resnet_v5.model\n",
      "Epoch 30/50\n",
      " - 94s - loss: 0.0445 - lb: 0.8354 - val_loss: 0.2293 - val_lb: 0.7770\n",
      "\n",
      "Epoch 00030: lb improved from 0.83130 to 0.83537, saving model to Unet_resnet_v5.model\n",
      "Epoch 31/50\n",
      " - 94s - loss: 0.0468 - lb: 0.8339 - val_loss: 0.1896 - val_lb: 0.8031\n",
      "\n",
      "Epoch 00031: lb did not improve from 0.83537\n",
      "Epoch 32/50\n",
      " - 94s - loss: 0.0470 - lb: 0.8347 - val_loss: 0.1564 - val_lb: 0.8014\n",
      "\n",
      "Epoch 00032: lb did not improve from 0.83537\n",
      "Epoch 33/50\n",
      " - 94s - loss: 0.0478 - lb: 0.8331 - val_loss: 0.1680 - val_lb: 0.8021\n",
      "\n",
      "Epoch 00033: lb did not improve from 0.83537\n",
      "Epoch 34/50\n",
      " - 94s - loss: 0.0454 - lb: 0.8363 - val_loss: 0.1524 - val_lb: 0.7969\n",
      "\n",
      "Epoch 00034: lb improved from 0.83537 to 0.83634, saving model to Unet_resnet_v5.model\n",
      "Epoch 35/50\n",
      " - 94s - loss: 0.0396 - lb: 0.8455 - val_loss: 0.2469 - val_lb: 0.7983\n",
      "\n",
      "Epoch 00035: lb improved from 0.83634 to 0.84552, saving model to Unet_resnet_v5.model\n",
      "Epoch 36/50\n",
      " - 94s - loss: 0.0412 - lb: 0.8422 - val_loss: 0.2040 - val_lb: 0.7295\n",
      "\n",
      "Epoch 00036: lb did not improve from 0.84552\n",
      "Epoch 37/50\n",
      " - 94s - loss: 0.0430 - lb: 0.8394 - val_loss: 0.1838 - val_lb: 0.8045\n",
      "\n",
      "Epoch 00037: lb did not improve from 0.84552\n",
      "Epoch 38/50\n",
      " - 94s - loss: 0.0432 - lb: 0.8430 - val_loss: 0.1953 - val_lb: 0.7791\n",
      "\n",
      "Epoch 00038: lb did not improve from 0.84552\n",
      "Epoch 39/50\n",
      " - 94s - loss: 0.0420 - lb: 0.8428 - val_loss: 0.1922 - val_lb: 0.8099\n",
      "\n",
      "Epoch 00039: lb did not improve from 0.84552\n",
      "Epoch 40/50\n",
      " - 94s - loss: 0.0354 - lb: 0.8539 - val_loss: 0.1635 - val_lb: 0.7724\n",
      "\n",
      "Epoch 00040: lb improved from 0.84552 to 0.85386, saving model to Unet_resnet_v5.model\n",
      "Epoch 41/50\n",
      " - 93s - loss: 0.0346 - lb: 0.8567 - val_loss: 0.1802 - val_lb: 0.8068\n",
      "\n",
      "Epoch 00041: lb improved from 0.85386 to 0.85666, saving model to Unet_resnet_v5.model\n",
      "Epoch 42/50\n",
      " - 94s - loss: 0.0436 - lb: 0.8387 - val_loss: 0.2086 - val_lb: 0.8163\n",
      "\n",
      "Epoch 00042: lb did not improve from 0.85666\n",
      "Epoch 43/50\n",
      " - 94s - loss: 0.0377 - lb: 0.8504 - val_loss: 0.2233 - val_lb: 0.8166\n",
      "\n",
      "Epoch 00043: lb did not improve from 0.85666\n",
      "Epoch 44/50\n",
      " - 94s - loss: 0.0312 - lb: 0.8625 - val_loss: 0.1746 - val_lb: 0.8037\n",
      "\n",
      "Epoch 00044: lb improved from 0.85666 to 0.86246, saving model to Unet_resnet_v5.model\n",
      "Epoch 45/50\n",
      " - 94s - loss: 0.0382 - lb: 0.8508 - val_loss: 0.1888 - val_lb: 0.8115\n",
      "\n",
      "Epoch 00045: lb did not improve from 0.86246\n",
      "Epoch 46/50\n",
      " - 94s - loss: 0.0314 - lb: 0.8617 - val_loss: 0.2286 - val_lb: 0.8150\n",
      "\n",
      "Epoch 00046: lb did not improve from 0.86246\n",
      "Epoch 47/50\n",
      " - 94s - loss: 0.0337 - lb: 0.8593 - val_loss: 0.2052 - val_lb: 0.8149\n",
      "\n",
      "Epoch 00047: lb did not improve from 0.86246\n",
      "Epoch 48/50\n",
      " - 94s - loss: 0.0396 - lb: 0.8469 - val_loss: 0.2222 - val_lb: 0.7819\n",
      "\n",
      "Epoch 00048: lb did not improve from 0.86246\n",
      "Epoch 49/50\n",
      " - 94s - loss: 0.0315 - lb: 0.8628 - val_loss: 0.2322 - val_lb: 0.6840\n",
      "\n",
      "Epoch 00049: lb improved from 0.86246 to 0.86283, saving model to Unet_resnet_v5.model\n",
      "Epoch 50/50\n",
      " - 94s - loss: 0.0365 - lb: 0.8532 - val_loss: 0.1917 - val_lb: 0.7891\n",
      "\n",
      "Epoch 00050: lb did not improve from 0.86283\n"
     ]
    }
   ],
   "source": [
    "c = optimizers.adam(lr = 0.01)\n",
    "model.compile(loss=bce, optimizer=c, metrics=[lb])\n",
    "model_checkpoint = ModelCheckpoint(save_model_name,monitor='lb', \n",
    "                                   mode = 'max', save_best_only=True, verbose=1)\n",
    "reduce_lr = ReduceLROnPlateau(monitor='lb', mode = 'max',factor=0.5, patience=5, min_lr=0.0001, verbose=1)\n",
    "\n",
    "epochs = 50\n",
    "history = model.fit([x_train, depth_train], y_train,\n",
    "                    validation_data=[[x_valid, depth_test], y_valid], \n",
    "                    epochs=epochs,\n",
    "                    batch_size=32,\n",
    "                    callbacks=[ model_checkpoint,reduce_lr], \n",
    "                    verbose=2, shuffle=True)"
   ]
  },
  {
   "cell_type": "code",
   "execution_count": 19,
   "metadata": {
    "_uuid": "347c6567c95430f28ec51b94f42603e37a4056db"
   },
   "outputs": [
    {
     "data": {
      "text/plain": [
       "<matplotlib.legend.Legend at 0x7f6861534978>"
      ]
     },
     "execution_count": 19,
     "metadata": {},
     "output_type": "execute_result"
    },
    {
     "data": {
      "image/png": "[encoded data removed]",
      "text/plain": [
       "<matplotlib.figure.Figure at 0x7f68763fde80>"
      ]
     },
     "metadata": {},
     "output_type": "display_data"
    }
   ],
   "source": [
    "fig, (ax_loss, ax_score) = plt.subplots(1, 2, figsize=(15,5))\n",
    "ax_loss.plot(history.epoch, history.history[\"loss\"], label=\"Train loss\")\n",
    "ax_loss.plot(history.epoch, history.history[\"val_loss\"], label=\"Validation loss\")\n",
    "ax_loss.legend()\n",
    "ax_score.plot(history.epoch, history.history[\"lb\"], label=\"Train score\")\n",
    "ax_score.plot(history.epoch, history.history[\"val_lb\"], label=\"Validation score\")\n",
    "ax_score.legend()"
   ]
  },
  {
   "cell_type": "code",
   "execution_count": 20,
   "metadata": {
    "_uuid": "bc68a1d9f9ec3837a2988bd7fe05d1fffdbc381d"
   },
   "outputs": [
    {
     "name": "stdout",
     "output_type": "stream",
     "text": [
      "Train on 25600 samples, validate on 800 samples\n",
      "Epoch 1/60\n",
      " - 275s - loss: 0.2442 - lb: 0.8643 - val_loss: 0.3669 - val_lb: 0.8041\n",
      "\n",
      "Epoch 00001: val_lb improved from -inf to 0.80413, saving model to Unet_resnet_v5.model\n",
      "Epoch 2/60\n",
      " - 268s - loss: 0.2227 - lb: 0.8649 - val_loss: 0.3734 - val_lb: 0.7962\n",
      "\n",
      "Epoch 00002: val_lb did not improve from 0.80413\n",
      "Epoch 3/60\n",
      " - 268s - loss: 0.2181 - lb: 0.8651 - val_loss: 0.4188 - val_lb: 0.7891\n",
      "\n",
      "Epoch 00003: val_lb did not improve from 0.80413\n",
      "Epoch 4/60\n",
      " - 268s - loss: 0.2136 - lb: 0.8660 - val_loss: 0.3365 - val_lb: 0.8133\n",
      "\n",
      "Epoch 00004: val_lb improved from 0.80413 to 0.81325, saving model to Unet_resnet_v5.model\n",
      "Epoch 5/60\n",
      " - 268s - loss: 0.2094 - lb: 0.8673 - val_loss: 0.3339 - val_lb: 0.8124\n",
      "\n",
      "Epoch 00005: val_lb did not improve from 0.81325\n",
      "Epoch 6/60\n",
      " - 268s - loss: 0.2097 - lb: 0.8673 - val_loss: 0.3818 - val_lb: 0.7826\n",
      "\n",
      "Epoch 00006: val_lb did not improve from 0.81325\n",
      "Epoch 7/60\n",
      " - 268s - loss: 0.2108 - lb: 0.8664 - val_loss: 0.3374 - val_lb: 0.8106\n",
      "\n",
      "Epoch 00007: val_lb did not improve from 0.81325\n",
      "Epoch 8/60\n",
      " - 268s - loss: 0.2075 - lb: 0.8677 - val_loss: 0.3530 - val_lb: 0.7989\n",
      "\n",
      "Epoch 00008: val_lb did not improve from 0.81325\n",
      "Epoch 9/60\n",
      " - 268s - loss: 0.2103 - lb: 0.8653 - val_loss: 0.3165 - val_lb: 0.8196\n",
      "\n",
      "Epoch 00009: val_lb improved from 0.81325 to 0.81963, saving model to Unet_resnet_v5.model\n",
      "Epoch 10/60\n",
      " - 268s - loss: 0.2003 - lb: 0.8716 - val_loss: 0.3887 - val_lb: 0.7836\n",
      "\n",
      "Epoch 00010: val_lb did not improve from 0.81963\n",
      "Epoch 11/60\n",
      " - 268s - loss: 0.2031 - lb: 0.8689 - val_loss: 0.3353 - val_lb: 0.8086\n",
      "\n",
      "Epoch 00011: val_lb did not improve from 0.81963\n",
      "Epoch 12/60\n",
      " - 268s - loss: 0.2093 - lb: 0.8660 - val_loss: 0.4551 - val_lb: 0.7244\n",
      "\n",
      "Epoch 00012: val_lb did not improve from 0.81963\n",
      "Epoch 13/60\n",
      " - 268s - loss: 0.2010 - lb: 0.8709 - val_loss: 0.3861 - val_lb: 0.7834\n",
      "\n",
      "Epoch 00013: val_lb did not improve from 0.81963\n",
      "Epoch 14/60\n",
      " - 268s - loss: 0.1944 - lb: 0.8745 - val_loss: 0.3627 - val_lb: 0.7926\n",
      "\n",
      "Epoch 00014: val_lb did not improve from 0.81963\n",
      "\n",
      "Epoch 00014: ReduceLROnPlateau reducing learning rate to 0.004999999888241291.\n",
      "Epoch 15/60\n",
      " - 268s - loss: 0.1769 - lb: 0.8845 - val_loss: 0.3007 - val_lb: 0.8263\n",
      "\n",
      "Epoch 00015: val_lb improved from 0.81963 to 0.82625, saving model to Unet_resnet_v5.model\n",
      "Epoch 16/60\n",
      " - 268s - loss: 0.1695 - lb: 0.8894 - val_loss: 0.2984 - val_lb: 0.8272\n",
      "\n",
      "Epoch 00016: val_lb improved from 0.82625 to 0.82725, saving model to Unet_resnet_v5.model\n",
      "Epoch 17/60\n",
      " - 268s - loss: 0.1682 - lb: 0.8905 - val_loss: 0.2920 - val_lb: 0.8294\n",
      "\n",
      "Epoch 00017: val_lb improved from 0.82725 to 0.82937, saving model to Unet_resnet_v5.model\n",
      "Epoch 18/60\n",
      " - 268s - loss: 0.1642 - lb: 0.8924 - val_loss: 0.2971 - val_lb: 0.8326\n",
      "\n",
      "Epoch 00018: val_lb improved from 0.82937 to 0.83262, saving model to Unet_resnet_v5.model\n",
      "Epoch 19/60\n",
      " - 268s - loss: 0.1624 - lb: 0.8943 - val_loss: 0.3006 - val_lb: 0.8279\n",
      "\n",
      "Epoch 00019: val_lb did not improve from 0.83262\n",
      "Epoch 20/60\n",
      " - 268s - loss: 0.1615 - lb: 0.8944 - val_loss: 0.3083 - val_lb: 0.8205\n",
      "\n",
      "Epoch 00020: val_lb did not improve from 0.83262\n",
      "Epoch 21/60\n",
      " - 268s - loss: 0.1600 - lb: 0.8958 - val_loss: 0.3038 - val_lb: 0.8236\n",
      "\n",
      "Epoch 00021: val_lb did not improve from 0.83262\n",
      "Epoch 22/60\n",
      " - 268s - loss: 0.1632 - lb: 0.8934 - val_loss: 0.2997 - val_lb: 0.8280\n",
      "\n",
      "Epoch 00022: val_lb did not improve from 0.83262\n",
      "Epoch 23/60\n",
      " - 268s - loss: 0.1596 - lb: 0.8962 - val_loss: 0.3084 - val_lb: 0.8234\n",
      "\n",
      "Epoch 00023: val_lb did not improve from 0.83262\n",
      "\n",
      "Epoch 00023: ReduceLROnPlateau reducing learning rate to 0.0024999999441206455.\n",
      "Epoch 24/60\n",
      " - 266s - loss: 0.1487 - lb: 0.9035 - val_loss: 0.2803 - val_lb: 0.8387\n",
      "\n",
      "Epoch 00024: val_lb improved from 0.83262 to 0.83875, saving model to Unet_resnet_v5.model\n",
      "Epoch 25/60\n",
      " - 268s - loss: 0.1453 - lb: 0.9057 - val_loss: 0.2861 - val_lb: 0.8315\n",
      "\n",
      "Epoch 00025: val_lb did not improve from 0.83875\n",
      "Epoch 26/60\n",
      " - 268s - loss: 0.1441 - lb: 0.9068 - val_loss: 0.2800 - val_lb: 0.8363\n",
      "\n",
      "Epoch 00026: val_lb did not improve from 0.83875\n",
      "Epoch 27/60\n",
      " - 268s - loss: 0.1454 - lb: 0.9059 - val_loss: 0.2919 - val_lb: 0.8303\n",
      "\n",
      "Epoch 00027: val_lb did not improve from 0.83875\n",
      "Epoch 28/60\n",
      " - 268s - loss: 0.1417 - lb: 0.9081 - val_loss: 0.2949 - val_lb: 0.8270\n",
      "\n",
      "Epoch 00028: val_lb did not improve from 0.83875\n",
      "Epoch 29/60\n",
      " - 268s - loss: 0.1411 - lb: 0.9086 - val_loss: 0.2833 - val_lb: 0.8328\n",
      "\n",
      "Epoch 00029: val_lb did not improve from 0.83875\n",
      "\n",
      "Epoch 00029: ReduceLROnPlateau reducing learning rate to 0.0012499999720603228.\n",
      "Epoch 30/60\n",
      " - 268s - loss: 0.1366 - lb: 0.9116 - val_loss: 0.2923 - val_lb: 0.8295\n",
      "\n",
      "Epoch 00030: val_lb did not improve from 0.83875\n",
      "Epoch 31/60\n",
      " - 268s - loss: 0.1358 - lb: 0.9124 - val_loss: 0.2791 - val_lb: 0.8354\n",
      "\n",
      "Epoch 00031: val_lb did not improve from 0.83875\n",
      "Epoch 32/60\n",
      " - 268s - loss: 0.1338 - lb: 0.9137 - val_loss: 0.2809 - val_lb: 0.8347\n",
      "\n",
      "Epoch 00032: val_lb did not improve from 0.83875\n",
      "Epoch 33/60\n",
      " - 268s - loss: 0.1339 - lb: 0.9141 - val_loss: 0.2879 - val_lb: 0.8320\n",
      "\n",
      "Epoch 00033: val_lb did not improve from 0.83875\n",
      "Epoch 34/60\n",
      " - 268s - loss: 0.1331 - lb: 0.9143 - val_loss: 0.2878 - val_lb: 0.8341\n",
      "\n",
      "Epoch 00034: val_lb did not improve from 0.83875\n",
      "\n",
      "Epoch 00034: ReduceLROnPlateau reducing learning rate to 0.0006249999860301614.\n",
      "Epoch 35/60\n",
      " - 268s - loss: 0.1313 - lb: 0.9159 - val_loss: 0.2853 - val_lb: 0.8334\n",
      "\n",
      "Epoch 00035: val_lb did not improve from 0.83875\n",
      "Epoch 36/60\n",
      " - 268s - loss: 0.1304 - lb: 0.9166 - val_loss: 0.2825 - val_lb: 0.8355\n",
      "\n",
      "Epoch 00036: val_lb did not improve from 0.83875\n",
      "Epoch 37/60\n",
      " - 268s - loss: 0.1293 - lb: 0.9173 - val_loss: 0.2820 - val_lb: 0.8353\n",
      "\n",
      "Epoch 00037: val_lb did not improve from 0.83875\n",
      "Epoch 38/60\n",
      " - 268s - loss: 0.1297 - lb: 0.9170 - val_loss: 0.2823 - val_lb: 0.8350\n",
      "\n",
      "Epoch 00038: val_lb did not improve from 0.83875\n",
      "Epoch 39/60\n",
      " - 268s - loss: 0.1283 - lb: 0.9179 - val_loss: 0.2874 - val_lb: 0.8317\n",
      "\n",
      "Epoch 00039: val_lb did not improve from 0.83875\n",
      "\n",
      "Epoch 00039: ReduceLROnPlateau reducing learning rate to 0.0003124999930150807.\n",
      "Epoch 40/60\n",
      " - 268s - loss: 0.1281 - lb: 0.9183 - val_loss: 0.2833 - val_lb: 0.8339\n",
      "\n",
      "Epoch 00040: val_lb did not improve from 0.83875\n",
      "Epoch 41/60\n",
      " - 268s - loss: 0.1277 - lb: 0.9185 - val_loss: 0.2838 - val_lb: 0.8350\n",
      "\n",
      "Epoch 00041: val_lb did not improve from 0.83875\n",
      "Epoch 42/60\n",
      " - 268s - loss: 0.1277 - lb: 0.9188 - val_loss: 0.2793 - val_lb: 0.8376\n",
      "\n",
      "Epoch 00042: val_lb did not improve from 0.83875\n",
      "Epoch 43/60\n",
      " - 268s - loss: 0.1262 - lb: 0.9197 - val_loss: 0.2818 - val_lb: 0.8352\n",
      "\n",
      "Epoch 00043: val_lb did not improve from 0.83875\n",
      "Epoch 44/60\n",
      " - 268s - loss: 0.1266 - lb: 0.9193 - val_loss: 0.2791 - val_lb: 0.8384\n",
      "\n",
      "Epoch 00044: val_lb did not improve from 0.83875\n",
      "\n",
      "Epoch 00044: ReduceLROnPlateau reducing learning rate to 0.00015624999650754035.\n",
      "Epoch 00044: early stopping\n"
     ]
    }
   ],
   "source": [
    "model.load_weights(save_model_name)\n",
    "c = optimizers.adam(lr = 0.01)\n",
    "model.compile(loss=lovasz_loss, optimizer=c, metrics=[lb])\n",
    "\n",
    "early_stopping = EarlyStopping(monitor='val_lb', mode = 'max',patience=20, verbose=1)\n",
    "model_checkpoint = ModelCheckpoint(save_model_name,monitor='val_lb', \n",
    "                                   mode = 'max', save_best_only=True, verbose=1)\n",
    "reduce_lr = ReduceLROnPlateau(monitor='val_lb', mode = 'max',factor=0.5, patience=5, min_lr=0.0001, verbose=1)\n",
    "epochs = 60\n",
    "\n",
    "history = model.fit([x_train, depth_train], y_train,\n",
    "                    validation_data=[[x_valid, depth_test], y_valid], \n",
    "                    epochs=epochs,\n",
    "                    batch_size=32,\n",
    "                    callbacks=[ model_checkpoint,reduce_lr,early_stopping], \n",
    "                    verbose=2, shuffle=True)"
   ]
  },
  {
   "cell_type": "code",
   "execution_count": 21,
   "metadata": {
    "_uuid": "347c6567c95430f28ec51b94f42603e37a4056db"
   },
   "outputs": [
    {
     "data": {
      "text/plain": [
       "<matplotlib.legend.Legend at 0x7f67a0b83748>"
      ]
     },
     "execution_count": 21,
     "metadata": {},
     "output_type": "execute_result"
    },
    {
     "data": {
      "image/png": "[encoded data removed]",
      "text/plain": [
       "<matplotlib.figure.Figure at 0x7f68763fdc18>"
      ]
     },
     "metadata": {},
     "output_type": "display_data"
    }
   ],
   "source": [
    "fig, (ax_loss, ax_score) = plt.subplots(1, 2, figsize=(15,5))\n",
    "ax_loss.plot(history.epoch, history.history[\"loss\"], label=\"Train loss\")\n",
    "ax_loss.plot(history.epoch, history.history[\"val_loss\"], label=\"Validation loss\")\n",
    "ax_loss.legend()\n",
    "ax_score.plot(history.epoch, history.history[\"lb\"], label=\"Train score\")\n",
    "ax_score.plot(history.epoch, history.history[\"val_lb\"], label=\"Validation score\")\n",
    "ax_score.legend()"
   ]
  },
  {
   "cell_type": "code",
   "execution_count": 22,
   "metadata": {
    "_uuid": "bc68a1d9f9ec3837a2988bd7fe05d1fffdbc381d"
   },
   "outputs": [
    {
     "name": "stdout",
     "output_type": "stream",
     "text": [
      "Freezed layer batch_normalization_1\n",
      "Freezed layer batch_normalization_2\n",
      "Freezed layer batch_normalization_3\n",
      "Freezed layer batch_normalization_4\n",
      "Freezed layer batch_normalization_5\n",
      "Freezed layer batch_normalization_6\n",
      "Freezed layer batch_normalization_7\n",
      "Freezed layer batch_normalization_8\n",
      "Freezed layer batch_normalization_9\n",
      "Freezed layer batch_normalization_10\n",
      "Freezed layer batch_normalization_11\n",
      "Freezed layer batch_normalization_12\n",
      "Freezed layer batch_normalization_13\n",
      "Freezed layer batch_normalization_14\n",
      "Freezed layer batch_normalization_15\n",
      "Freezed layer batch_normalization_16\n",
      "Freezed layer batch_normalization_17\n",
      "Freezed layer batch_normalization_18\n",
      "Freezed layer batch_normalization_19\n",
      "Freezed layer batch_normalization_20\n",
      "Freezed layer batch_normalization_21\n",
      "Freezed layer batch_normalization_22\n",
      "Freezed layer batch_normalization_23\n",
      "Freezed layer batch_normalization_24\n",
      "Freezed layer batch_normalization_25\n",
      "Freezed layer batch_normalization_26\n",
      "Freezed layer batch_normalization_27\n",
      "Freezed layer batch_normalization_28\n",
      "Freezed layer batch_normalization_29\n",
      "Freezed layer batch_normalization_30\n",
      "Freezed layer batch_normalization_31\n",
      "Freezed layer batch_normalization_32\n",
      "Freezed layer batch_normalization_33\n",
      "Freezed layer batch_normalization_34\n",
      "Freezed layer batch_normalization_35\n",
      "Freezed layer batch_normalization_36\n",
      "Freezed layer batch_normalization_37\n",
      "Freezed layer batch_normalization_38\n",
      "Freezed layer batch_normalization_39\n",
      "Freezed layer batch_normalization_40\n",
      "Freezed layer batch_normalization_41\n",
      "Freezed layer batch_normalization_42\n",
      "Freezed layer batch_normalization_43\n",
      "Freezed layer batch_normalization_44\n",
      "Freezed layer batch_normalization_45\n",
      "Freezed layer batch_normalization_46\n",
      "Freezed layer batch_normalization_47\n",
      "Train on 25600 samples, validate on 800 samples\n",
      "Epoch 1/20\n",
      " - 273s - loss: 0.1567 - lb: 0.8976 - val_loss: 0.2803 - val_lb: 0.8388\n",
      "\n",
      "Epoch 00001: val_lb improved from 0.83875 to 0.83875, saving model to Unet_resnet_v5.model\n",
      "Epoch 2/20\n",
      " - 269s - loss: 0.1543 - lb: 0.8993 - val_loss: 0.2802 - val_lb: 0.8388\n",
      "\n",
      "Epoch 00002: val_lb did not improve from 0.83875\n",
      "Epoch 3/20\n",
      " - 269s - loss: 0.1551 - lb: 0.8984 - val_loss: 0.2801 - val_lb: 0.8388\n",
      "\n",
      "Epoch 00003: val_lb did not improve from 0.83875\n",
      "Epoch 4/20\n",
      " - 269s - loss: 0.1550 - lb: 0.8988 - val_loss: 0.2802 - val_lb: 0.8388\n",
      "\n",
      "Epoch 00004: val_lb did not improve from 0.83875\n",
      "Epoch 5/20\n",
      " - 269s - loss: 0.1533 - lb: 0.8998 - val_loss: 0.2800 - val_lb: 0.8389\n",
      "\n",
      "Epoch 00005: val_lb improved from 0.83875 to 0.83888, saving model to Unet_resnet_v5.model\n",
      "Epoch 6/20\n",
      " - 269s - loss: 0.1549 - lb: 0.8991 - val_loss: 0.2801 - val_lb: 0.8389\n",
      "\n",
      "Epoch 00006: val_lb did not improve from 0.83888\n",
      "Epoch 7/20\n",
      " - 269s - loss: 0.1554 - lb: 0.8982 - val_loss: 0.2801 - val_lb: 0.8389\n",
      "\n",
      "Epoch 00007: val_lb did not improve from 0.83888\n",
      "Epoch 8/20\n",
      " - 269s - loss: 0.1548 - lb: 0.8987 - val_loss: 0.2802 - val_lb: 0.8389\n",
      "\n",
      "Epoch 00008: val_lb did not improve from 0.83888\n",
      "Epoch 9/20\n",
      " - 269s - loss: 0.1556 - lb: 0.8981 - val_loss: 0.2802 - val_lb: 0.8389\n",
      "\n",
      "Epoch 00009: val_lb did not improve from 0.83888\n",
      "Epoch 10/20\n",
      " - 269s - loss: 0.1542 - lb: 0.8992 - val_loss: 0.2801 - val_lb: 0.8389\n",
      "\n",
      "Epoch 00010: val_lb did not improve from 0.83888\n",
      "Epoch 11/20\n",
      " - 269s - loss: 0.1558 - lb: 0.8978 - val_loss: 0.2801 - val_lb: 0.8389\n",
      "\n",
      "Epoch 00011: val_lb did not improve from 0.83888\n",
      "Epoch 12/20\n",
      " - 269s - loss: 0.1564 - lb: 0.8978 - val_loss: 0.2801 - val_lb: 0.8389\n",
      "\n",
      "Epoch 00012: val_lb did not improve from 0.83888\n",
      "Epoch 13/20\n",
      " - 269s - loss: 0.1534 - lb: 0.8995 - val_loss: 0.2801 - val_lb: 0.8389\n",
      "\n",
      "Epoch 00013: val_lb did not improve from 0.83888\n",
      "Epoch 14/20\n",
      " - 269s - loss: 0.1563 - lb: 0.8978 - val_loss: 0.2803 - val_lb: 0.8389\n",
      "\n",
      "Epoch 00014: val_lb did not improve from 0.83888\n",
      "Epoch 15/20\n",
      " - 269s - loss: 0.1546 - lb: 0.8993 - val_loss: 0.2801 - val_lb: 0.8389\n",
      "\n",
      "Epoch 00015: val_lb did not improve from 0.83888\n",
      "Epoch 16/20\n",
      " - 269s - loss: 0.1558 - lb: 0.8980 - val_loss: 0.2802 - val_lb: 0.8389\n",
      "\n",
      "Epoch 00016: val_lb did not improve from 0.83888\n",
      "Epoch 17/20\n",
      " - 269s - loss: 0.1544 - lb: 0.8992 - val_loss: 0.2800 - val_lb: 0.8389\n",
      "\n",
      "Epoch 00017: val_lb did not improve from 0.83888\n",
      "Epoch 18/20\n",
      " - 269s - loss: 0.1552 - lb: 0.8986 - val_loss: 0.2801 - val_lb: 0.8389\n",
      "\n",
      "Epoch 00018: val_lb did not improve from 0.83888\n",
      "Epoch 19/20\n",
      " - 269s - loss: 0.1546 - lb: 0.8990 - val_loss: 0.2801 - val_lb: 0.8389\n",
      "\n",
      "Epoch 00019: val_lb did not improve from 0.83888\n",
      "Epoch 20/20\n",
      " - 269s - loss: 0.1543 - lb: 0.8991 - val_loss: 0.2801 - val_lb: 0.8389\n",
      "\n",
      "Epoch 00020: val_lb did not improve from 0.83888\n"
     ]
    }
   ],
   "source": [
    "model.load_weights(save_model_name)\n",
    "\n",
    "for l in model.layers:\n",
    "    if str(l.name).startswith('batch_norm'):\n",
    "        l.trainable=False\n",
    "        print('Freezed layer {:s}'.format(str(l.name)))\n",
    "\n",
    "c = optimizers.sgd(lr = 0.0001)\n",
    "model.compile(loss=lovasz_loss, optimizer=c, metrics=[lb])\n",
    "epochs = 20\n",
    "\n",
    "history = model.fit([x_train, depth_train], y_train,\n",
    "                    validation_data=[[x_valid, depth_test], y_valid], \n",
    "                    epochs=epochs,\n",
    "                    batch_size=16,\n",
    "                    callbacks=[ model_checkpoint ], \n",
    "                    verbose=2, shuffle=True)"
   ]
  },
  {
   "cell_type": "code",
   "execution_count": 23,
   "metadata": {
    "_uuid": "347c6567c95430f28ec51b94f42603e37a4056db"
   },
   "outputs": [
    {
     "data": {
      "text/plain": [
       "<matplotlib.legend.Legend at 0x7f686569bba8>"
      ]
     },
     "execution_count": 23,
     "metadata": {},
     "output_type": "execute_result"
    },
    {
     "data": {
      "image/png": "[encoded data removed]",
      "text/plain": [
       "<matplotlib.figure.Figure at 0x7f67a1f34d30>"
      ]
     },
     "metadata": {},
     "output_type": "display_data"
    }
   ],
   "source": [
    "fig, (ax_loss, ax_score) = plt.subplots(1, 2, figsize=(15,5))\n",
    "ax_loss.plot(history.epoch, history.history[\"loss\"], label=\"Train loss\")\n",
    "ax_loss.plot(history.epoch, history.history[\"val_loss\"], label=\"Validation loss\")\n",
    "ax_loss.legend()\n",
    "ax_score.plot(history.epoch, history.history[\"lb\"], label=\"Train score\")\n",
    "ax_score.plot(history.epoch, history.history[\"val_lb\"], label=\"Validation score\")\n",
    "ax_score.legend()"
   ]
  },
  {
   "cell_type": "code",
   "execution_count": 24,
   "metadata": {
    "_uuid": "a081f8f61a713457c8c8f3979a78f75541875456"
   },
   "outputs": [],
   "source": [
    "model.load_weights(save_model_name)"
   ]
  },
  {
   "cell_type": "code",
   "execution_count": 25,
   "metadata": {
    "_uuid": "f68651e1ce6ad9a461c8f1a25a1250fd489adfed"
   },
   "outputs": [],
   "source": [
    "def predict_result(model,x_test,depth_test,img_size_target): # predict both orginal and reflect x\n",
    "    x_test_reflect = x_test[:,:,::-1]\n",
    "    preds_test = model.predict([x_test,depth_test]).reshape(-1, img_size_target, img_size_target)\n",
    "    preds_test2_refect = model.predict([x_test_reflect,depth_test]).reshape(-1, img_size_target, img_size_target)\n",
    "    preds_test += preds_test2_refect[:,:,::-1]\n",
    "    return preds_test/2"
   ]
  },
  {
   "cell_type": "code",
   "execution_count": 26,
   "metadata": {
    "_uuid": "b7a061700364ea17735f953d6bd3c835bc3dc630"
   },
   "outputs": [],
   "source": [
    "preds_valid = predict_result(model,x_valid,depth_test,img_size_target)"
   ]
  },
  {
   "cell_type": "code",
   "execution_count": 27,
   "metadata": {
    "_uuid": "5a9b1a900a8a4d031978c3b5ef2e739b5661de73"
   },
   "outputs": [],
   "source": [
    "#Score the model and do a threshold optimization by the best IoU.\n",
    "\n",
    "# src: https://www.kaggle.com/aglotero/another-iou-metric\n",
    "def iou_metric(y_true_in, y_pred_in, print_table=False):\n",
    "    labels = y_true_in\n",
    "    y_pred = y_pred_in\n",
    "\n",
    "\n",
    "    true_objects = 2\n",
    "    pred_objects = 2\n",
    "\n",
    "    #  if all zeros, original code  generate wrong  bins [-0.5 0 0.5],\n",
    "    temp1 = np.histogram2d(labels.flatten(), y_pred.flatten(), bins=([0,0.5,1], [0,0.5, 1]))\n",
    "#     temp1 = np.histogram2d(labels.flatten(), y_pred.flatten(), bins=(true_objects, pred_objects))\n",
    "    #print(temp1)\n",
    "    intersection = temp1[0]\n",
    "    #print(\"temp2 = \",temp1[1])\n",
    "    #print(intersection.shape)\n",
    "   # print(intersection)\n",
    "    # Compute areas (needed for finding the union between all objects)\n",
    "    #print(np.histogram(labels, bins = true_objects))\n",
    "    area_true = np.histogram(labels,bins=[0,0.5,1])[0]\n",
    "    #print(\"area_true = \",area_true)\n",
    "    area_pred = np.histogram(y_pred, bins=[0,0.5,1])[0]\n",
    "    area_true = np.expand_dims(area_true, -1)\n",
    "    area_pred = np.expand_dims(area_pred, 0)\n",
    "\n",
    "    # Compute union\n",
    "    union = area_true + area_pred - intersection\n",
    "  \n",
    "    # Exclude background from the analysis\n",
    "    intersection = intersection[1:,1:]\n",
    "    intersection[intersection == 0] = 1e-9\n",
    "    \n",
    "    union = union[1:,1:]\n",
    "    union[union == 0] = 1e-9\n",
    "\n",
    "    # Compute the intersection over union\n",
    "    iou = intersection / union\n",
    "\n",
    "    # Precision helper function\n",
    "    def precision_at(threshold, iou):\n",
    "        matches = iou > threshold\n",
    "        true_positives = np.sum(matches, axis=1) == 1   # Correct objects\n",
    "        false_positives = np.sum(matches, axis=0) == 0  # Missed objects\n",
    "        false_negatives = np.sum(matches, axis=1) == 0  # Extra objects\n",
    "        tp, fp, fn = np.sum(true_positives), np.sum(false_positives), np.sum(false_negatives)\n",
    "        return tp, fp, fn\n",
    "\n",
    "    # Loop over IoU thresholds\n",
    "    prec = []\n",
    "    if print_table:\n",
    "        print(\"Thresh\\tTP\\tFP\\tFN\\tPrec.\")\n",
    "    for t in np.arange(0.5, 1.0, 0.05):\n",
    "        tp, fp, fn = precision_at(t, iou)\n",
    "        if (tp + fp + fn) > 0:\n",
    "            p = tp / (tp + fp + fn)\n",
    "        else:\n",
    "            p = 0\n",
    "        if print_table:\n",
    "            print(\"{:1.3f}\\t{}\\t{}\\t{}\\t{:1.3f}\".format(t, tp, fp, fn, p))\n",
    "        prec.append(p)\n",
    "    \n",
    "    if print_table:\n",
    "        print(\"AP\\t-\\t-\\t-\\t{:1.3f}\".format(np.mean(prec)))\n",
    "    return np.mean(prec)\n",
    "\n",
    "def iou_metric_batch(y_true_in, y_pred_in):\n",
    "    batch_size = y_true_in.shape[0]\n",
    "    metric = []\n",
    "    for batch in range(batch_size):\n",
    "        value = iou_metric(y_true_in[batch], y_pred_in[batch])\n",
    "        metric.append(value)\n",
    "    return np.mean(metric)\n",
    "\n"
   ]
  },
  {
   "cell_type": "code",
   "execution_count": 28,
   "metadata": {
    "_uuid": "91b1be75d7e8ff74db956c8c846c47ed7576ecb2"
   },
   "outputs": [
    {
     "data": {
      "application/vnd.jupyter.widget-view+json": {
       "model_id": "3fbbb5861e224564a8ca89e0a0f5a442",
       "version_major": 2,
       "version_minor": 0
      },
      "text/html": [
       "<p>Failed to display Jupyter Widget of type <code>HBox</code>.</p>\n",
       "<p>\n",
       "  If you're reading this message in the Jupyter Notebook or JupyterLab Notebook, it may mean\n",
       "  that the widgets JavaScript is still loading. If this message persists, it\n",
       "  likely means that the widgets JavaScript library is either not installed or\n",
       "  not enabled. See the <a href=\"https://ipywidgets.readthedocs.io/en/stable/user_install.html\">Jupyter\n",
       "  Widgets Documentation</a> for setup instructions.\n",
       "</p>\n",
       "<p>\n",
       "  If you're reading this message in another frontend (for example, a static\n",
       "  rendering on GitHub or <a href=\"https://nbviewer.jupyter.org/\">NBViewer</a>),\n",
       "  it may mean that your frontend doesn't currently support widgets.\n",
       "</p>\n"
      ],
      "text/plain": [
       "HBox(children=(IntProgress(value=0), HTML(value='')))"
      ]
     },
     "metadata": {},
     "output_type": "display_data"
    },
    {
     "name": "stdout",
     "output_type": "stream",
     "text": [
      "\n",
      "[0.838625 0.838625 0.838875 0.838625 0.83875  0.838625 0.838625 0.838875\n",
      " 0.83925  0.839    0.839375 0.839375 0.84075  0.84075  0.8405   0.840625\n",
      " 0.841625 0.841625 0.841625 0.84175  0.841625 0.841625 0.841625 0.841625\n",
      " 0.84175  0.84175  0.841875 0.84175  0.842    0.84175  0.84175  0.84175\n",
      " 0.841625 0.841625 0.841625 0.841625 0.841375 0.8415   0.842875 0.843\n",
      " 0.842875 0.843    0.843    0.843    0.843    0.842625 0.84275  0.8425\n",
      " 0.8425   0.84125  0.83625  0.839875 0.84     0.84     0.84     0.840125\n",
      " 0.840125 0.840125 0.84025  0.84025  0.84025  0.840375 0.840375 0.840375\n",
      " 0.8405   0.840375 0.840375 0.84025  0.840375 0.840875 0.84075  0.840625\n",
      " 0.8405   0.8405   0.8405   0.840625 0.840375 0.8405   0.840625 0.840625\n",
      " 0.8405   0.840625 0.840625 0.840875 0.840375 0.8405   0.8405   0.840375\n",
      " 0.8405   0.8405   0.840375 0.8405   0.84025  0.84025  0.84025  0.840125\n",
      " 0.839875 0.839875 0.84     0.84    ]\n"
     ]
    }
   ],
   "source": [
    "## Scoring for last model, choose threshold by validation data \n",
    "thresholds = np.linspace(-0.5, 0.5, 100)\n",
    "ious = np.array([iou_metric_batch(y_valid, preds_valid > threshold) for threshold in tqdm_notebook(thresholds)])\n",
    "print(ious)"
   ]
  },
  {
   "cell_type": "code",
   "execution_count": 29,
   "metadata": {
    "_uuid": "1beb285910aa6532d7a69a70afa6a9671e6d347d"
   },
   "outputs": [
    {
     "data": {
      "text/plain": [
       "<matplotlib.legend.Legend at 0x7f6865595c18>"
      ]
     },
     "execution_count": 29,
     "metadata": {},
     "output_type": "execute_result"
    },
    {
     "data": {
      "image/png": "[encoded data removed]",
      "text/plain": [
       "<matplotlib.figure.Figure at 0x7f68656385c0>"
      ]
     },
     "metadata": {},
     "output_type": "display_data"
    }
   ],
   "source": [
    "# instead of using default 0 as threshold, use validation data to find the best threshold.\n",
    "threshold_best_index = np.argmax(ious) \n",
    "iou_best = ious[threshold_best_index]\n",
    "threshold_best = thresholds[threshold_best_index]\n",
    "\n",
    "plt.plot(thresholds, ious)\n",
    "plt.plot(threshold_best, iou_best, \"xr\", label=\"Best threshold\")\n",
    "plt.xlabel(\"Threshold\")\n",
    "plt.ylabel(\"IoU\")\n",
    "plt.title(\"Threshold vs IoU ({}, {})\".format(threshold_best, iou_best))\n",
    "plt.legend()"
   ]
  },
  {
   "cell_type": "code",
   "execution_count": 30,
   "metadata": {
    "_uuid": "2c4852ecf2c504a4ce30e975f5e36b534c2111e6"
   },
   "outputs": [],
   "source": [
    "\"\"\"\n",
    "used for converting the decoded image to rle mask\n",
    "Fast compared to previous one\n",
    "\"\"\"\n",
    "def rle_encode(im):\n",
    "    '''\n",
    "    im: numpy array, 1 - mask, 0 - background\n",
    "    Returns run length as string formated\n",
    "    '''\n",
    "    pixels = im.flatten(order = 'F')\n",
    "    pixels = np.concatenate([[0], pixels, [0]])\n",
    "    runs = np.where(pixels[1:] != pixels[:-1])[0] + 1\n",
    "    runs[1::2] -= runs[::2]\n",
    "    return ' '.join(str(x) for x in runs)"
   ]
  },
  {
   "cell_type": "code",
   "execution_count": 31,
   "metadata": {
    "_uuid": "21bb50645b1c67d907e42c262d92f975668fccac"
   },
   "outputs": [
    {
     "data": {
      "application/vnd.jupyter.widget-view+json": {
       "model_id": "bb35ddeb07b14f2c973ba222f81cf5fd",
       "version_major": 2,
       "version_minor": 0
      },
      "text/html": [
       "<p>Failed to display Jupyter Widget of type <code>HBox</code>.</p>\n",
       "<p>\n",
       "  If you're reading this message in the Jupyter Notebook or JupyterLab Notebook, it may mean\n",
       "  that the widgets JavaScript is still loading. If this message persists, it\n",
       "  likely means that the widgets JavaScript library is either not installed or\n",
       "  not enabled. See the <a href=\"https://ipywidgets.readthedocs.io/en/stable/user_install.html\">Jupyter\n",
       "  Widgets Documentation</a> for setup instructions.\n",
       "</p>\n",
       "<p>\n",
       "  If you're reading this message in another frontend (for example, a static\n",
       "  rendering on GitHub or <a href=\"https://nbviewer.jupyter.org/\">NBViewer</a>),\n",
       "  it may mean that your frontend doesn't currently support widgets.\n",
       "</p>\n"
      ],
      "text/plain": [
       "HBox(children=(IntProgress(value=0, max=18000), HTML(value='')))"
      ]
     },
     "metadata": {},
     "output_type": "display_data"
    },
    {
     "name": "stdout",
     "output_type": "stream",
     "text": [
      "\n"
     ]
    }
   ],
   "source": [
    "x_test = np.array([(np.array(load_img(\"../input/test/images/{}.png\".format(idx), color_mode = 'grayscale'))) for idx in tqdm_notebook(test_df.index)]).reshape(-1, img_size_target, img_size_target, 1)\n",
    "x_depth_test = test_df.z.values\n"
   ]
  },
  {
   "cell_type": "code",
   "execution_count": 32,
   "metadata": {
    "_uuid": "ce8185fa64aafbe42ebde98aba984b4f22b0050e"
   },
   "outputs": [],
   "source": [
    "preds_test = predict_result(model,x_test,x_depth_test,img_size_target)"
   ]
  },
  {
   "cell_type": "code",
   "execution_count": 33,
   "metadata": {
    "_uuid": "7ccac81a492b9caaff4a25401165e145cf2c6f8e"
   },
   "outputs": [
    {
     "data": {
      "application/vnd.jupyter.widget-view+json": {
       "model_id": "ffe9f6021ff24caa8e738526808d0656",
       "version_major": 2,
       "version_minor": 0
      },
      "text/html": [
       "<p>Failed to display Jupyter Widget of type <code>HBox</code>.</p>\n",
       "<p>\n",
       "  If you're reading this message in the Jupyter Notebook or JupyterLab Notebook, it may mean\n",
       "  that the widgets JavaScript is still loading. If this message persists, it\n",
       "  likely means that the widgets JavaScript library is either not installed or\n",
       "  not enabled. See the <a href=\"https://ipywidgets.readthedocs.io/en/stable/user_install.html\">Jupyter\n",
       "  Widgets Documentation</a> for setup instructions.\n",
       "</p>\n",
       "<p>\n",
       "  If you're reading this message in another frontend (for example, a static\n",
       "  rendering on GitHub or <a href=\"https://nbviewer.jupyter.org/\">NBViewer</a>),\n",
       "  it may mean that your frontend doesn't currently support widgets.\n",
       "</p>\n"
      ],
      "text/plain": [
       "HBox(children=(IntProgress(value=0, max=18000), HTML(value='')))"
      ]
     },
     "metadata": {},
     "output_type": "display_data"
    },
    {
     "name": "stdout",
     "output_type": "stream",
     "text": [
      "\n",
      "Usedtime = 0.9292171001434326 s\n"
     ]
    }
   ],
   "source": [
    "\n",
    "t1 = time.time()\n",
    "pred_dict = {idx: rle_encode(preds_test[i] > threshold_best) for i, idx in enumerate(tqdm_notebook(test_df.index.values))}\n",
    "t2 = time.time()\n",
    "\n",
    "print(f\"Usedtime = {t2-t1} s\")"
   ]
  },
  {
   "cell_type": "code",
   "execution_count": 34,
   "metadata": {
    "_uuid": "770d7d596656f4f1ad17a6063ad662ac80e11b24"
   },
   "outputs": [],
   "source": [
    "sub = pd.DataFrame.from_dict(pred_dict,orient='index')\n",
    "sub.index.names = ['id']\n",
    "sub.columns = ['rle_mask']\n",
    "sub.to_csv(submission_file)"
   ]
  },
  {
   "cell_type": "code",
   "execution_count": 35,
   "metadata": {
    "_uuid": "c89c406884ee54bee2c57aff51b116c157553ae9"
   },
   "outputs": [
    {
     "name": "stdout",
     "output_type": "stream",
     "text": [
      "Kernel run time = 6.114114001923137 hours\n"
     ]
    }
   ],
   "source": [
    "t_finish = time.time()\n",
    "print(f\"Kernel run time = {(t_finish-t_start)/3600} hours\")"
   ]
  },
  {
   "cell_type": "code",
   "execution_count": null,
   "metadata": {
    "_uuid": "a3009187c164635fbe163bd8ce406c2e309b1e5f"
   },
   "outputs": [],
   "source": []
  }
 ],
 "metadata": {
  "kernelspec": {
   "display_name": "Python 3",
   "language": "python",
   "name": "python3"
  },
  "language_info": {
   "codemirror_mode": {
    "name": "ipython",
    "version": 3
   },
   "file_extension": ".py",
   "mimetype": "text/x-python",
   "name": "python",
   "nbconvert_exporter": "python",
   "pygments_lexer": "ipython3",
   "version": "3.6.3"
  }
 },
 "nbformat": 4,
 "nbformat_minor": 1
}
